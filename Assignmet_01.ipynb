{
 "cells": [
  {
   "cell_type": "markdown",
   "id": "eb988de4-b4bc-4de5-935c-1ec19f6c8cfc",
   "metadata": {},
   "source": [
    "#Assignment_01"
   ]
  },
  {
   "cell_type": "markdown",
   "id": "9ffcebb0-fc8f-475e-844a-be7faf2ed27f",
   "metadata": {},
   "source": [
    "'''1. In the below elements which of them are values or an expression? eg:- values can be\n",
    "integer or string and expressions will be mathematical operators.\n",
    "*\n",
    "'hello'\n",
    "-87.8\n",
    "-\n",
    "/\n",
    "+\n",
    "6'''"
   ]
  },
  {
   "cell_type": "code",
   "execution_count": null,
   "id": "06c0323c-885b-4fbf-ad0e-0a71ea879c65",
   "metadata": {},
   "outputs": [],
   "source": [
    "#Ans:-> Here values are:->\n",
    "# 'hello',-87.8,6\n",
    "\n",
    "# Expressions are :-> *,-,/,+"
   ]
  },
  {
   "cell_type": "markdown",
   "id": "9babc234-5d64-4c23-a91d-385d998a29f0",
   "metadata": {},
   "source": [
    "What is the difference between string and variable?"
   ]
  },
  {
   "cell_type": "code",
   "execution_count": null,
   "id": "8457cb62-77b1-48c8-8823-69c4efde6e7a",
   "metadata": {},
   "outputs": [],
   "source": [
    "#string:-> Strings are very important datatypes of python. When we define any object inside the single or double quotes called string.\n",
    "#ex:->\"iNeuron\",'Data Science\"\n",
    "\n",
    "#Varibles:-> varibles are the refrence for the object in the python.\n",
    "#ex a='iNeuron' here a is varible ,refrence for the string"
   ]
  },
  {
   "cell_type": "markdown",
   "id": "62416a1b-dbe7-4f06-86b7-bbcf907e024f",
   "metadata": {},
   "source": [
    "3)Describe three different data types."
   ]
  },
  {
   "cell_type": "code",
   "execution_count": null,
   "id": "ecc7120e-6eaa-49c9-b34d-a702474ca08a",
   "metadata": {},
   "outputs": [],
   "source": [
    "#Ans:->there are many datatypes is python like string,integer,float,list,tuple,set,dict,boolence\n",
    "\n",
    "#1)string:->string is important datatypes in python.when we define set of letters, numbers inside the single or double\n",
    "#queotes calles strings.\n",
    "#ex:-> a='iNeuron',b='10'\n",
    "\n",
    "#2)List:-> list is important datatypes in python. when we define objects inside the square bracets calles list.\n",
    "# we can store any datatypes is side the list , list are mutable,ordered\n",
    "\n",
    "#Types of list \n",
    "\n",
    "#i) homogeneous list:when list contain same datatypes calles homogeneous list\n",
    "  #ex:->list_=[1,2,3,4]\n",
    "    \n",
    "#ii)Heterogeneous list: when list contain diffrent datatypes calles heterogeneous list\n",
    "  #ex:->list_2=['iNeuron',1,2.1]\n",
    "    \n",
    "    \n",
    "#3)Integer:->int  is important datatypes in python. integer store whole number.we can store both positive ane negative values in it.\n",
    "#ex a=10;b=-1\n",
    "    \n",
    "    \n"
   ]
  },
  {
   "cell_type": "markdown",
   "id": "dc70c163-d600-45de-8642-58e865f266da",
   "metadata": {},
   "source": [
    "4)What is an expression made up of? What do all expressions do?"
   ]
  },
  {
   "cell_type": "code",
   "execution_count": null,
   "id": "0f84635b-904f-4f50-9c57-5cd62f49cb21",
   "metadata": {},
   "outputs": [],
   "source": [
    "#Ans:-> Expression basically combination of values,operators,functions and varibles.expression are very important part of \n",
    "#any programming language.\n",
    "#with the help of expression we can do Evaluation,\n",
    "#data manipulation,\n",
    "#varibles assignment\n",
    "#Ex:->a=4+5*2\n",
    "  \n"
   ]
  },
  {
   "cell_type": "markdown",
   "id": "17e14765-9d96-4bbb-827a-277147b1bb0f",
   "metadata": {},
   "source": [
    "This assignment statements, like spam = 10. What is the difference between an\n",
    "expression and a statement?"
   ]
  },
  {
   "cell_type": "code",
   "execution_count": null,
   "id": "4ff65598-69d5-4c92-8475-703aa8b3de00",
   "metadata": {},
   "outputs": [],
   "source": [
    "#Ans:-> Expression:->n expression is a combination of values, variables, operators, and function calls that evaluates to a single value. \n",
    "#It can be as simple as a single constant value or as complex as a mathematical equation expression produce values.\n",
    "#Ex:->a=4+5*2\n",
    "\n",
    "#Statements:->a statement is a complete line of code that performs an action or instructs the computer to do something. It represents\n",
    "#a complete instruction or command that the program should execute statements perform actions .\n",
    "\n",
    "#spam=10 is a statement."
   ]
  },
  {
   "cell_type": "markdown",
   "id": "22f53a04-dafd-4524-adf2-0dd34fbe2a4b",
   "metadata": {},
   "source": [
    "After running the following code, what does the variable bacon contain?\n",
    "bacon = 22\n",
    "bacon + 1"
   ]
  },
  {
   "cell_type": "code",
   "execution_count": 5,
   "id": "a991e638-b226-4ab3-8b60-259fda08c659",
   "metadata": {},
   "outputs": [
    {
     "name": "stdout",
     "output_type": "stream",
     "text": [
      "23\n"
     ]
    }
   ],
   "source": [
    "#Ans:->\n",
    "bacon=22\n",
    "bacon+=1\n",
    "print(bacon) #output will be 23 "
   ]
  },
  {
   "cell_type": "markdown",
   "id": "6a170157-532b-4db0-92ab-ace60639573a",
   "metadata": {},
   "source": [
    "What should the values of the following two terms be?\n",
    "'spam'+'spamspam'\n",
    "'spam'*3"
   ]
  },
  {
   "cell_type": "code",
   "execution_count": 6,
   "id": "1931d3d3-51b0-4ad3-bff2-36370fcaabcc",
   "metadata": {},
   "outputs": [
    {
     "name": "stdout",
     "output_type": "stream",
     "text": [
      "spamspamspam\n",
      "spamspamspam\n"
     ]
    }
   ],
   "source": [
    "#Ans:->\n",
    "a='spam'+'spamspam' #for both output will be same spamspamspam\n",
    "b='spam'*3\n",
    "print(a)\n",
    "print(b)"
   ]
  },
  {
   "cell_type": "markdown",
   "id": "0bc0accb-35b9-4936-9749-f0be990a530a",
   "metadata": {},
   "source": [
    "8. Why is eggs a valid variable name while 100 is invalid?"
   ]
  },
  {
   "cell_type": "code",
   "execution_count": null,
   "id": "1c14d186-4973-4754-9461-2976c383a7ea",
   "metadata": {},
   "outputs": [],
   "source": [
    "#Ans:-Python have some rule for defining the varibles names\n",
    "#According to python rule we cant start varible name with special symbols(except uderscore) and numbers so 100 is number.\n",
    " # thats why eggs are valid varibles name is python but 100 is invalid"
   ]
  },
  {
   "cell_type": "markdown",
   "id": "d4a3ed38-9fa7-4972-803a-d1b131ec2cfa",
   "metadata": {},
   "source": [
    "9. What three functions can be used to get the integer, floating-point number, or string\n",
    "version of a value?"
   ]
  },
  {
   "cell_type": "code",
   "execution_count": 15,
   "id": "f706e1b2-4416-4d60-bb56-514540a83007",
   "metadata": {},
   "outputs": [
    {
     "name": "stdout",
     "output_type": "stream",
     "text": [
      "10\n",
      "<class 'str'>\n",
      "10\n",
      "<class 'int'>\n",
      "10.5\n",
      "<class 'float'>\n"
     ]
    }
   ],
   "source": [
    "#Ans:-> In Python, you can use the following three functions to convert a value to an integer, floating-point number, or string.\n",
    "\n",
    "#str(): this function used to convert a value in sting. with this function we can covert any datatype into string\n",
    "a=10\n",
    "b=str(10)\n",
    "print(b)\n",
    "print(type(b))\n",
    "\n",
    "#int(): this function used to convert a value into integer . with this function we can covert any datatype into integer.\n",
    "a=10.5\n",
    "b=int(a)\n",
    "print(b)\n",
    "print(type(b))\n",
    "\n",
    "#float(): this function used to convert a value into foating point number . with this function we can covert any datatype into floating \n",
    "#point number.\n",
    "a=10.5\n",
    "b=float(a)\n",
    "print(b)\n",
    "print(type(b))\n",
    "\n"
   ]
  },
  {
   "cell_type": "markdown",
   "id": "b219297e-67ea-46ea-b094-6e23e8969522",
   "metadata": {},
   "source": [
    "Why does this expression cause an error? How can you fix it?\n",
    "'I have eaten '; + 99 + '; burritos.'"
   ]
  },
  {
   "cell_type": "code",
   "execution_count": 16,
   "id": "242f0046-461c-4538-b66a-9efe3b858adf",
   "metadata": {},
   "outputs": [
    {
     "name": "stdout",
     "output_type": "stream",
     "text": [
      "I have eaten 99 burritos\n"
     ]
    }
   ],
   "source": [
    "#Ans:-> cause of error is here we are trying to add to diffrent datatypes string ane integer. \n",
    "# for fix this error convert that 99 into the string \n",
    "string_='I have eaten ' + str(99) + ' burritos'   # str() function is used here to fix the error\n",
    "print(string_)"
   ]
  },
  {
   "cell_type": "code",
   "execution_count": null,
   "id": "18c2b012-f4c7-4839-8087-b85ba834a94c",
   "metadata": {},
   "outputs": [],
   "source": []
  }
 ],
 "metadata": {
  "kernelspec": {
   "display_name": "Python 3 (ipykernel)",
   "language": "python",
   "name": "python3"
  },
  "language_info": {
   "codemirror_mode": {
    "name": "ipython",
    "version": 3
   },
   "file_extension": ".py",
   "mimetype": "text/x-python",
   "name": "python",
   "nbconvert_exporter": "python",
   "pygments_lexer": "ipython3",
   "version": "3.10.6"
  }
 },
 "nbformat": 4,
 "nbformat_minor": 5
}
