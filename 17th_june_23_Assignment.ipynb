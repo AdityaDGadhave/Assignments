{
 "cells": [
  {
   "cell_type": "markdown",
   "id": "c6a56aa8-432d-4d0d-98b2-129fd053fbda",
   "metadata": {},
   "source": [
    "1. What is the role of try and exception block?"
   ]
  },
  {
   "cell_type": "code",
   "execution_count": 1,
   "id": "069b05bc-e43f-4287-8647-7d36ab010f2c",
   "metadata": {},
   "outputs": [
    {
     "name": "stdout",
     "output_type": "stream",
     "text": [
      "Division by zero error\n"
     ]
    }
   ],
   "source": [
    "#Ans:->The try and except block is a programming construct that is used to handle exceptions in Python.\n",
    "\n",
    "    \n",
    "#try block:-> in this try block code is present when we execute the code then if all input is correct then try block run the code.\n",
    "#             If code has any error then without showing this error directly try block pass that information to exeption block..\n",
    " #            When opening a file, to handle the possibility that the file does not exist.\n",
    "#             When dividing two numbers, to handle the possibility that the second number is zero.\n",
    "\n",
    "#Exception Block:-> when code has some error then exeption block raise that error with that error name(systematically) .\n",
    "#                   that error not message not look like default error massege its pop with error name.\n",
    "                  \n",
    "#                   With the eception block we can prevent the program crashing\n",
    " #                  To allow for different types of exceptions to be handled in different ways\n",
    "def divide_numbers(x, y):\n",
    "    try:\n",
    "        return x / y                        \n",
    "    except ZeroDivisionError:\n",
    "        return \"Division by zero error\"\n",
    "\n",
    "print(divide_numbers(5, 0))                  "
   ]
  },
  {
   "cell_type": "markdown",
   "id": "8205e00b-7e73-4d3f-8227-4c69d8cc20a0",
   "metadata": {},
   "source": [
    "2. What is the syntax for a basic try-except block?"
   ]
  },
  {
   "cell_type": "code",
   "execution_count": 8,
   "id": "aceea153-edd7-4d0e-8526-940725e96a16",
   "metadata": {},
   "outputs": [
    {
     "name": "stdout",
     "output_type": "stream",
     "text": [
      "Division by zero error\n"
     ]
    }
   ],
   "source": [
    "#Ans:-> Syntax for try- except block is easy. for define try block 'try' keyword and colon is used as follow\n",
    "#       inside that block program code is present that may raise error.\n",
    "       \n",
    "         \n",
    "#       for except block except keyword and colon is used and inside that we can write messeage realated to that error.\n",
    "    \n",
    "#    we can handle any type of error with try-except block.\n",
    "    \n",
    "\n",
    "#try:\n",
    "    # code \n",
    "#except Exception as e:    \n",
    "    \n",
    "try:\n",
    "    x=10\n",
    "    y=0\n",
    "    calculation = x / y                        \n",
    "except ZeroDivisionError:\n",
    "        print( \"Division by zero error\")    \n",
    "\n",
    "    "
   ]
  },
  {
   "cell_type": "markdown",
   "id": "47b4113e-deef-45de-84bd-77bbb764f275",
   "metadata": {},
   "source": [
    "3. What happens if an exception occurs inside a try block and there is no matching\n",
    "except block?"
   ]
  },
  {
   "cell_type": "code",
   "execution_count": 14,
   "id": "fff155f6-0884-4e0b-a5a3-6d4bb8c9c2a4",
   "metadata": {},
   "outputs": [
    {
     "name": "stdout",
     "output_type": "stream",
     "text": [
      "incalid input \n"
     ]
    }
   ],
   "source": [
    "#Ans: if an exception occurs inside a try block and there is no matching except block then program going to crash.\n",
    "#     exeption block is unable to handle the error in this case.\n",
    "    \n",
    "#Ex:->\n",
    "#try:\n",
    "#    x=10\n",
    "#    y='a'                     #this try-block is for handle the ZeroDivisionError but i pass str here. program definately crash here.\n",
    "#    calculation = x / y                        \n",
    "#except ZeroDivisionError:\n",
    "#        print( \"Division by zero error\")    \n",
    "        \n",
    "\n",
    "#To prevent this from happening, you should always have a matching except block for every exception that could occur in your code. \n",
    "#If you are not sure what exceptions your code could throw, you can use the Exception keyword as a catch-all exception.\n",
    "\n",
    "\n",
    "try:\n",
    "    x=10\n",
    "    y='a'                     #this try-block is for handle the ZeroDivisionError but i pass str here. program definately crash here.\n",
    "    calculation = x / y                        \n",
    "except Exception as e:                #here Exception is used . program not going to crash here because we not specific error here\n",
    "        print( \"incalid input \") \n"
   ]
  },
  {
   "cell_type": "markdown",
   "id": "751d6317-9647-441d-b0cd-5f1fcf9a889e",
   "metadata": {},
   "source": [
    "4. What is the difference between using a bare except block and specifying a specific\n",
    "exception type?"
   ]
  },
  {
   "cell_type": "code",
   "execution_count": 16,
   "id": "a8c3fe63-4697-4d27-b110-6f5d7afc11ca",
   "metadata": {},
   "outputs": [
    {
     "name": "stdout",
     "output_type": "stream",
     "text": [
      "An unexpected error occurred\n",
      "Division by zero error\n"
     ]
    }
   ],
   "source": [
    "#Ans:->The main difference between using a bare except block and specifying a specific exception type is that a bare except block will catch\n",
    " #     all exceptions(any type of error), while specifying a specific exception type will only catch that specific exception\n",
    "try:\n",
    "    x = 10 / a\n",
    "except Exception as e:            #this code is able to handle any type of error\n",
    "    print(\"An unexpected error occurred\")\n",
    "    \n",
    "    \n",
    "    \n",
    "try:\n",
    "    x = 10 / 0                       #here specifying the ZeroDivisionError. it can handle only ZeroDivisionError\n",
    "except ZeroDivisionError:\n",
    "    print(\"Division by zero error\")    \n",
    "    "
   ]
  },
  {
   "cell_type": "markdown",
   "id": "67b25c94-d50d-4953-a1c1-a76899db5b7f",
   "metadata": {},
   "source": [
    "5. Can you have nested try-except blocks in Python? If yes, then give an example."
   ]
  },
  {
   "cell_type": "code",
   "execution_count": 20,
   "id": "2b5b0f57-49f6-4294-af9e-0685df1b5a55",
   "metadata": {},
   "outputs": [
    {
     "name": "stdout",
     "output_type": "stream",
     "text": [
      "120\n",
      "2\n",
      "720\n"
     ]
    }
   ],
   "source": [
    "#Ans:->Yes, we can have nested try-except blocks in Python.\n",
    "      #Nested try-except blocks can be used to handle multiple exceptions in a single function. This can be useful for functions that are \n",
    "      #complex or that have a lot of potential for errors.\n",
    "    \n",
    "\n",
    "def factorial(n):\n",
    "    try:\n",
    "        if n < 0:\n",
    "            raise ValueError(\"n must be non-negative\")\n",
    "        if n == 0:\n",
    "            return 1\n",
    "        return n * factorial(n - 1)\n",
    "    except ValueError as e:\n",
    "        print(e)\n",
    "    except Exception as e:\n",
    "        print(e)\n",
    "\n",
    "print(factorial(5))\n",
    "print(factorial(2))\n",
    "print(factorial(6))\n",
    "\n",
    "#The first try-except block handles the ValueError exception that is raised if the input n is negative. The second try-except block handles any\n",
    "#other exceptions that occur.\n",
    "\n",
    "#In this example, the first try-except block catches the ValueError exception that is raised when the input n is -1. The print() statement inside the\n",
    "#except block prints the message \"n must be non-negative\"."
   ]
  },
  {
   "cell_type": "markdown",
   "id": "c2789b6f-4641-4598-94f3-a7ad39878e77",
   "metadata": {},
   "source": [
    "6. Can we use multiple exception blocks, if yes then give an example."
   ]
  },
  {
   "cell_type": "code",
   "execution_count": 24,
   "id": "5081c482-998c-4c1e-bf9f-3d2fc7f73bc0",
   "metadata": {},
   "outputs": [
    {
     "name": "stdout",
     "output_type": "stream",
     "text": [
      "Exception occured here\n"
     ]
    }
   ],
   "source": [
    "#Ans:->Yes, you can use multiple exception blocks in Python. This means that you can have multiple except blocks in a single try block.\n",
    "\n",
    "try:\n",
    "    x = 10 / 0\n",
    "except ZeroDivisionError:              # for zero this except block will execute .\n",
    "    print(\"Division by zero error\")\n",
    "except TypeError:                     #insted int any input there then this except execute\n",
    "    print(\"Type error\")\n",
    "    \n",
    "    \n",
    "    \n",
    "#we can pass that all exeption is tuple also.\n",
    "\n",
    "#Ex:->\n",
    "try:\n",
    "    x = 10 / 0\n",
    "except (ZeroDivisionError,TypeError):  \n",
    "    print(\"Exception occured here\")"
   ]
  },
  {
   "cell_type": "markdown",
   "id": "cdfadbd8-6c1c-42cc-ae7f-56d89afb1f65",
   "metadata": {},
   "source": [
    "7. Write the reason due to which following errors are raised:\n",
    "a. EOFError\n",
    "b. FloatingPointError\n",
    "c. IndexError\n",
    "d. MemoryError\n",
    "e. OverflowError\n",
    "f. TabError\n",
    "g. ValueError"
   ]
  },
  {
   "cell_type": "code",
   "execution_count": null,
   "id": "f4661eb4-6809-4cab-9a54-cce15032ccf1",
   "metadata": {},
   "outputs": [],
   "source": [
    "#Ans:->\n",
    "\n",
    "#a. EOFError\n",
    "\n",
    "#The EOFError error is raised when the end of a file is reached unexpectedly. This can happen if the file is empty, or if the file is opened in \n",
    "#read mode and the end of the file is reached before the readline() or read() method returns.\n",
    "\n",
    "#b. FloatingPointError\n",
    "\n",
    "#The FloatingPointError error is raised when a floating point operation fails. This can happen if the operation results in a number that is\n",
    "#too large or too small to be represented as a floating point number, or if the operation is mathematically invalid.\n",
    "\n",
    "#c. IndexError\n",
    "\n",
    "#he IndexError error is raised when an index is out of range for a sequence. This can happen if you try to access an element of a list or\n",
    "# string that does not exist, or if you try to slice a sequence with an invalid start or end index.\n",
    "\n",
    "#d. MemoryError\n",
    "\n",
    "#The MemoryError error is raised when the Python interpreter runs out of memory. This can happen if your program is allocating too much memory,\n",
    "#or if your program is trying to access memory that is not available.\n",
    "\n",
    "#e. OverflowError\n",
    "\n",
    "#The OverflowError error is raised when the result of an arithmetic operation is too large to be represented as an integer. This can happen \n",
    "#if you try to divide a number by zero, or if you try to raise a number to a power that is too large.\n",
    "\n",
    "#f. TabError\n",
    "\n",
    "#The TabError error is raised when a tab character is encountered in a string that is being parsed. This can happen if you are using tabs to\n",
    "#indent your code, and you forget to convert the tabs to spaces before parsing the string.\n",
    "\n",
    "#g. ValueError\n",
    "\n",
    "#The ValueError error is raised when a value is not of the correct type for a particular operation. This can happen if you try to convert a\n",
    "#string to an integer, and the string does not contain a valid integer value.'''"
   ]
  },
  {
   "cell_type": "markdown",
   "id": "ecc237c6-8d4c-462d-9321-bbdff24d6999",
   "metadata": {},
   "source": [
    "8. Write code for the following given scenario and add try-exception block to it.\n",
    "a. Program to divide two numbers\n",
    "b. Program to convert a string to an integer\n",
    "c. Program to access an element in a list\n",
    "d. Program to handle a specific exception\n",
    "e. Program to handle any exception"
   ]
  },
  {
   "cell_type": "code",
   "execution_count": null,
   "id": "d5c96068-fdb5-4ffc-a83e-8cd04b8a3f36",
   "metadata": {},
   "outputs": [],
   "source": [
    "#Ans:->\n",
    "#a. Program to divide two numbers:\n",
    "\n",
    "\n",
    "try:\n",
    "    num1 = int(input(\"Enter the num1: \"))\n",
    "    num2 = int(input(\"Enter the num2: \"))\n",
    "    result = num1 / num2\n",
    "    print(\"Result:\", result)\n",
    "except ZeroDivisionError:\n",
    "    print(\"Error: Cannot divide by zero.\")\n",
    "    \n",
    "#b. Program to convert a string to an integer:\n",
    "\n",
    "\n",
    "try:\n",
    "    string_num = input(\"Enter a number: \")\n",
    "    num = int(string_num)\n",
    "    print(\"Integer:\", num)\n",
    "except ValueError:\n",
    "    print(\"Error: Invalid input. Please enter a valid number.\")\n",
    "    \n",
    "#c. Program to access an element in a list:\n",
    "\n",
    "\n",
    "try:\n",
    "    my_list = [1, 2, 3]\n",
    "    index = int(input(\"Enter the index: \"))\n",
    "    element = my_list[index]\n",
    "    print(\"Element at index\", index, \"is\", element)\n",
    "except IndexError:\n",
    "    print(\"Error: Invalid index. Index is out of range.\")\n",
    "    \n",
    "#d. Program to handle a specific exception:\n",
    "\n",
    "\n",
    "try:\n",
    "    num1 = int(input(\"Enter the first number: \"))\n",
    "    num2 = int(input(\"Enter the second number: \"))\n",
    "    result = num1 / num2\n",
    "    print(\"Result:\", result)\n",
    "except ZeroDivisionError:\n",
    "    print(\"Error: Cannot divide by zero.\")\n",
    "except ValueError:\n",
    "    print(\"Error: Invalid input. Please enter a valid number.\")\n",
    "    \n",
    "#e. Program to handle any exception:\n",
    "\n",
    "\n",
    "try:\n",
    "    num1 = int(input(\"Enter the first number: \"))\n",
    "    num2 = int(input(\"Enter the second number: \"))\n",
    "    result = num1 / num2\n",
    "    print(\"Result:\", result)\n",
    "except Exception as e:\n",
    "    print(\"An error occurred:\", str(e))"
   ]
  },
  {
   "cell_type": "code",
   "execution_count": null,
   "id": "955859ea-732b-4aef-a67d-5e170f99dc31",
   "metadata": {},
   "outputs": [],
   "source": []
  }
 ],
 "metadata": {
  "kernelspec": {
   "display_name": "Python 3 (ipykernel)",
   "language": "python",
   "name": "python3"
  },
  "language_info": {
   "codemirror_mode": {
    "name": "ipython",
    "version": 3
   },
   "file_extension": ".py",
   "mimetype": "text/x-python",
   "name": "python",
   "nbconvert_exporter": "python",
   "pygments_lexer": "ipython3",
   "version": "3.10.6"
  }
 },
 "nbformat": 4,
 "nbformat_minor": 5
}
