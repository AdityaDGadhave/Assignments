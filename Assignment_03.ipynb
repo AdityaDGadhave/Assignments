{
 "cells": [
  {
   "cell_type": "markdown",
   "id": "6d763eab-d6e1-4999-a713-94477eeb6b2d",
   "metadata": {},
   "source": [
    "1. Why are functions advantageous to have in your programs?"
   ]
  },
  {
   "cell_type": "code",
   "execution_count": null,
   "id": "3b8d0550-bc6b-45cb-82ea-6f0764f6c56d",
   "metadata": {},
   "outputs": [],
   "source": [
    "#Ans:-> here are some resons thats why having function in program is advantageous,\n",
    "\n",
    "#1)Reusability:-> Functions can be reused in multiple places in a program, which can save time and effort. For example, you could write a\n",
    "#                 function to calculate the factorial of a number, and then reuse that function in multiple places in your program.\n",
    "\n",
    "#2)Modularity:-> Functions can help to make your code more modular, which makes it easier to understand, maintain, and debug. This is because \n",
    "#                each function performs a specific task, and the code for that task is all contained in one place.\n",
    "\n",
    "#3)Readability:-> Functions can help to make your code more readable by breaking it down into smaller, more manageable chunks. This makes it\n",
    "#                 easier to understand what the code is doing, and it can also help to identify potential errors.\n",
    "    \n",
    "#4)Testing:-> Functions can help to make your code more testable. This is because each function can be tested independently of the rest of \n",
    "#             the code. This makes it easier to find and fix bugs.'''\n",
    "\n"
   ]
  },
  {
   "cell_type": "markdown",
   "id": "6e251e8b-361b-4325-ad1a-083d34b13069",
   "metadata": {},
   "source": [
    "2. When does the code in a function run: when it&#39;s specified or when it&#39;s called?"
   ]
  },
  {
   "cell_type": "code",
   "execution_count": 2,
   "id": "b52c5d81-0d40-41da-b392-4e7587712c6f",
   "metadata": {},
   "outputs": [
    {
     "name": "stdout",
     "output_type": "stream",
     "text": [
      "Ineurons Assignment completed\n"
     ]
    }
   ],
   "source": [
    "#Ans:->When you define a function, you are essentially creating a blueprint for the function. The blueprint contains the name of the function,\n",
    "#the parameters that the function takes, and the code that the function executes. However, the code in the function does not actually run \n",
    "#until the function is called.\n",
    "\n",
    "#When you call a function, you are telling the computer to execute the code in the function. The computer will then read the code in the\n",
    "#function, line by line, and execute it.\n",
    "\n",
    "#EX:-> \n",
    "def Assignment():            #here we define the bluprint means Def keyword and assignment name \n",
    "    return \"Ineurons Assignment completed\"           #\n",
    "print(Assignment())                     #here is function call, we have to all the function for output\n",
    "\n",
    "\n"
   ]
  },
  {
   "cell_type": "markdown",
   "id": "f88c0daf-04fd-4455-8b7d-6bb9c8064004",
   "metadata": {},
   "source": [
    "What statement creates a function?"
   ]
  },
  {
   "cell_type": "code",
   "execution_count": 4,
   "id": "4490ff63-2b9d-4952-b11c-e4ff785afd85",
   "metadata": {},
   "outputs": [
    {
     "name": "stdout",
     "output_type": "stream",
     "text": [
      "120\n"
     ]
    }
   ],
   "source": [
    "#Ans:->The def statement is used to create a function in Python.\n",
    "\n",
    "def Assignment_facto(n): # def is used to create the function.. Assignment is funtion name here. 'n' is parameter \n",
    "    if n == 0:\n",
    "        return 1                        #<---This execute the program calles function body\n",
    "    else:\n",
    "        return n *Assignment_facto(n - 1)\n",
    "print(Assignment_facto(5))                       #here is fuction call we pass the values here we can take as user input also\n",
    "\n",
    "#The def statement is a powerful tool that can be used to organize your code and make it more reusable. By using functions, you can break your code down into smaller, more manageable pieces. This can make your code easier to understand,\n",
    "#maintain, and debug\n"
   ]
  },
  {
   "cell_type": "markdown",
   "id": "5a42781d-ac53-43d1-aee5-ab4ef6e6a426",
   "metadata": {},
   "source": [
    "4. What is the difference between a function and a function call?"
   ]
  },
  {
   "cell_type": "code",
   "execution_count": 6,
   "id": "3c28a171-024a-4fa9-b1a6-8f1c6bc598c0",
   "metadata": {},
   "outputs": [
    {
     "name": "stdout",
     "output_type": "stream",
     "text": [
      "even\n"
     ]
    }
   ],
   "source": [
    "#Ans:->Fuction is the block of code that perform specific task. function name ,function body they are part of function.\n",
    "\n",
    "#      Fuction call is with help of that we eun that specific fuction and get output.\n",
    "    \n",
    "    \n",
    "def is_even(number):                 # this is fuction (fuction name,function body) this fucn take one argument \n",
    "    \n",
    "    if number%2==0:     \n",
    "        \n",
    "        return \"even\"\n",
    "    else:\n",
    "        return \"Odd\"    \n",
    "\n",
    "a=is_even(4)               #here is fuction call after this call whole code means function is ecexute , here we pass argument =4\n",
    "print(a)       \n",
    "\n",
    "\n",
    "#The main difference between a function and a function call is that a function is a block of code, while a function call is the act of \n",
    "#invoking a function and executing its code.\n"
   ]
  },
  {
   "cell_type": "markdown",
   "id": "c9f3b177-4074-4978-b5d3-f8c64f51ffef",
   "metadata": {},
   "source": [
    "5. How many global scopes are there in a Python program? How many local scopes?"
   ]
  },
  {
   "cell_type": "code",
   "execution_count": 9,
   "id": "78f7a29c-7bd3-4817-90c5-282c5497efb7",
   "metadata": {},
   "outputs": [
    {
     "name": "stdout",
     "output_type": "stream",
     "text": [
      "25\n"
     ]
    }
   ],
   "source": [
    "#Ans:-> only one Global scope in python.\n",
    "#Global Scope:->Global scope or varible we define before the function and outside the function.\n",
    "#Local scope:-> .  we define the local scope inside the program\n",
    "a=10            #Global scope  . we define global scope outside the fuction\n",
    "def number():\n",
    "    b=15        #Local scope  .  we define the local scope inside the program\n",
    "    \n",
    "    sum=a+b     # we can access globa scope /varible inside the function .\n",
    "    \n",
    "    print(sum)\n",
    "number()    \n",
    "\n",
    "\n",
    "#Global scope/varible is accessible for everyone who are working is same project but local scope is assessible only for that user who define\n",
    "#the local scope"
   ]
  },
  {
   "cell_type": "markdown",
   "id": "9a323483-5302-433f-b008-fdd4772955eb",
   "metadata": {},
   "source": [
    "6. What happens to variables in a local scope when the function call returns?"
   ]
  },
  {
   "cell_type": "code",
   "execution_count": null,
   "id": "9e4435a0-31d4-4fc9-85bd-312422f30680",
   "metadata": {},
   "outputs": [],
   "source": [
    "#Ans:->When a function call returns, the local variables in the functions scope are destroyed. This means that the variables are no longer \n",
    "#      accessible from the calling code.\n",
    "def func():\n",
    "    x = 10\n",
    "    print(x)\n",
    "\n",
    "func()\n",
    "\n",
    "#This code will print the value 10, which is the value of the local variable x. However, if you try to print the value of x after the\n",
    "#function call, you will get an error. This is because the variable x is no longer accessible after the function call returns.\n",
    "\n",
    "#The reason why local variables are destroyed when a function call returns is because they are only needed within the scope of the function. \n",
    "#Once the function returns, there is no need to keep the local variables in memory.\n",
    "\n",
    "#There are a few exceptions to this rule. For example, if a local variable is defined with the global keyword, then the variable will be \n",
    "#accessible from the global scope."
   ]
  },
  {
   "cell_type": "markdown",
   "id": "3fb2dabd-95bc-4988-89d7-019b5387c75c",
   "metadata": {},
   "source": [
    "7. What is the concept of a return value? Is it possible to have a return value in an expression?"
   ]
  },
  {
   "cell_type": "code",
   "execution_count": 12,
   "id": "201b07bd-a7bd-41f0-adfe-3b7149527ecf",
   "metadata": {},
   "outputs": [
    {
     "name": "stdout",
     "output_type": "stream",
     "text": [
      "10\n"
     ]
    }
   ],
   "source": [
    "#Ans:->In Python, a return value is the value that a function returns to the calling code. The return value can be any Python object, \n",
    " #     including numbers, strings, lists, dictionaries, and objects.The return statement is used to return a value from a function.\n",
    "\n",
    "  #    The return value serves as the output or result of the functions computation, allowing the caller to capture and utilize the result\n",
    "   # in the programs execution. The return statement can be followed by an expression that evaluates to the desired return value.\n",
    "\n",
    "def number():\n",
    "    x=10\n",
    "    return x               #\n",
    "print(number())\n",
    "\n",
    "#The return statement can be used to return any Python object. However, it is important to note that the return statement can only be used \n",
    "#within a function.\n",
    "\n",
    "\n",
    "                                                                "
   ]
  },
  {
   "cell_type": "markdown",
   "id": "fe336748-7b98-47d8-84fb-5fd76011e364",
   "metadata": {},
   "source": [
    "8. If a function does not have a return statement, what is the return value of a call to that function?"
   ]
  },
  {
   "cell_type": "code",
   "execution_count": null,
   "id": "d4ec081b-458a-4a49-8183-470c1f77f110",
   "metadata": {},
   "outputs": [],
   "source": [
    "#Ans:->If a function does not have a return statement, the return value of a call to that function is None. None is a special value in Python\n",
    "#      that represents the absence of a value.\n",
    "#This code will print the value None, which is the return value of the function_without_return() function.\n",
    "\n",
    "#It is important to note that if a function does not have a return statement, the function will still execute its code. However, \n",
    "#the return value of the function will be None.\n",
    "\n",
    "#Here is a table that summarizes the return value of a function that does not have a return statement:\n"
   ]
  },
  {
   "cell_type": "markdown",
   "id": "427046f1-b38c-487e-ab26-c290de4f7202",
   "metadata": {},
   "source": [
    "\n",
    "9. How do you make a function variable refer to the global variable?"
   ]
  },
  {
   "cell_type": "code",
   "execution_count": 13,
   "id": "da660348-1ae6-42b3-bd2f-8ab36efd145f",
   "metadata": {},
   "outputs": [
    {
     "name": "stdout",
     "output_type": "stream",
     "text": [
      "12\n"
     ]
    }
   ],
   "source": [
    "#Ans:->In Python, you can use the global keyword to make a function variable refer to the global variable. The global keyword tells the \n",
    "#      Python interpreter that the variable is defined in the global scope.\n",
    "\n",
    "    \n",
    "Globe_a=10\n",
    "def Var():\n",
    "    global Globe_a       #Accessing the global scope here\n",
    "    Globe_a=12           #we change the value of blobal varible\n",
    "    \n",
    "Var()\n",
    "print(Globe_a)\n",
    "\n",
    "#This code will print the value 20, which is the value of the global variable\n",
    "#The global keyword can be used to refer to any global variable. However, it is important to note that the global keyword can only be used \n",
    "#within a function.\n",
    "    \n",
    "    "
   ]
  },
  {
   "cell_type": "markdown",
   "id": "5197f243-8e99-4a04-961a-55886167465d",
   "metadata": {},
   "source": [
    "10. What is the data type of None?"
   ]
  },
  {
   "cell_type": "code",
   "execution_count": 15,
   "id": "38c808b2-3ba6-4374-adbe-d478c378be81",
   "metadata": {},
   "outputs": [
    {
     "name": "stdout",
     "output_type": "stream",
     "text": [
      "<class 'NoneType'>\n"
     ]
    }
   ],
   "source": [
    "#Ans:->The data type of None is NoneType. None is a special value in Python that represents the absence of a value. It is not the same as 0,\n",
    "        #False, or an empty string. None is a data type of its own (NoneType) and only None can be None.\n",
    "\n",
    "        #For example, the following code defines a variable called x and assigns the value None to it.\n",
    "\n",
    "x=None\n",
    "#the following code checks the data type of the x variable.\n",
    "print(type(x))\n",
    "\n",
    "he x variable is now of the data type NoneType.\n",
    "\n",
    "You can check the data type of a variable using the type() function. The type() function returns the data type of the variable.\n",
    "\n",
    "\n"
   ]
  },
  {
   "cell_type": "markdown",
   "id": "ed3a67f1-5ff1-4eb8-801e-92cf9d0629b1",
   "metadata": {},
   "source": [
    "11. What does the sentence import areallyourpetsnamederic do?"
   ]
  },
  {
   "cell_type": "code",
   "execution_count": null,
   "id": "c08114f7-3e2c-4670-b23b-bb115f70c9df",
   "metadata": {},
   "outputs": [],
   "source": [
    "#Ans:->The sentence import areallyourpetsnamederic imports a module named areallyourpetsnamederic. The import statement is used to import \n",
    "#      modules into Python. A module is a file that contains Python code.\n",
    "\n",
    " #     The areallyourpetsnamederic module does not exist, so the import statement will raise an ImportError exception. \n",
    "  #    The ImportError exception is raised when a module cannot be found.\n",
    "\n",
    "  #     For example, the following code will raise an ImportError exception\n",
    "        \n",
    "import areallyourpetsnamederic        "
   ]
  },
  {
   "cell_type": "markdown",
   "id": "012dc437-3d25-4f42-af6b-b8868e311780",
   "metadata": {},
   "source": [
    "12. If you had a bacon() feature in a spam module, what would you call it after importing spam?"
   ]
  },
  {
   "cell_type": "code",
   "execution_count": null,
   "id": "b558edb9-0db6-4c66-bdfc-6e9eaf11d9d9",
   "metadata": {},
   "outputs": [],
   "source": [
    "Ans:->If you had a bacon() feature in a spam module, you would call it with spam.bacon() after importing spam. \n",
    "      This is because the bacon() function is defined in the spam module, so you need to refer to it using the spam module name.\n",
    "    \n",
    "import spam\n",
    "\n",
    "print(spam.bacon())\n",
    "\n",
    "\n",
    "#This code will print the output of the bacon() function, which is whatever the function is defined to do.\n",
    "\n",
    "#It is important to note that the bacon() function is only accessible from within the spam module.\n",
    "# If you try to call the bacon() function from outside the spam module, you will get an error.\n"
   ]
  },
  {
   "cell_type": "markdown",
   "id": "45a076ab-c369-4178-ad9f-0ee1da1d4884",
   "metadata": {},
   "source": [
    "13. What can you do to save a programme from crashing if it encounters an error?"
   ]
  },
  {
   "cell_type": "code",
   "execution_count": null,
   "id": "73db3a70-7e20-4f3e-9cbf-b07fcd114484",
   "metadata": {},
   "outputs": [],
   "source": [
    "#Ans:->There are a few things you can do to save a program from crashing if it encounters an error.\n",
    "\n",
    "#      Use exception handling. Exception handling is a way to deal with errors that occur during the execution of a program.\n",
    "#     When an error occurs,the program will jump to the exception handler, which will handle the error and allow the program to continue running.\n",
    "\n",
    "#     Validate your input. One of the most common causes of errors is invalid input. By validating your input, you can help to ensure that \n",
    "#     our program does not crash if it receives invalid input.\n",
    "\n",
    "#     Use try/except blocks. The try and except blocks are a way to execute code that may raise an exception. If an exception is raised, \n",
    "#     the except block will be executed. \n",
    "\n",
    "#     This allows you to handle the exception and prevent the program from crashing.\n",
    "#    Use logging. Logging is a way to record information about the execution of a program. This information can be used to debug the program \n",
    "#     and to identify the source of the error.\n",
    "    \n",
    "    \n",
    "# preventing your program from crashing:->    \n",
    "    \n",
    "#  Use clear and concise code. The easier your code is to read, the easier it will be to debug.\n",
    "#  Comment your code. Comments can help to explain what your code is doing, which can make it easier to debug.\n",
    "#  Test your code thoroughly. Before you release your program, you should test it thoroughly to make sure that it does not crash.    "
   ]
  },
  {
   "cell_type": "markdown",
   "id": "55260363-2556-440f-a6d1-a20f39ae717a",
   "metadata": {},
   "source": [
    "14. What is the purpose of the try clause? What is the purpose of the except clause?"
   ]
  },
  {
   "cell_type": "code",
   "execution_count": 18,
   "id": "ccca85ac-845c-4432-96d6-b2daf75af3dc",
   "metadata": {},
   "outputs": [
    {
     "ename": "NameError",
     "evalue": "name 'dictionary' is not defined",
     "output_type": "error",
     "traceback": [
      "\u001b[0;31m---------------------------------------------------------------------------\u001b[0m",
      "\u001b[0;31mNameError\u001b[0m                                 Traceback (most recent call last)",
      "Cell \u001b[0;32mIn [18], line 8\u001b[0m\n\u001b[1;32m      1\u001b[0m \u001b[38;5;66;03m#Ans:->#The try clause in Python is used to execute code that may raise an exception. The except clause is used to handle the exception.\u001b[39;00m\n\u001b[1;32m      2\u001b[0m       \u001b[38;5;66;03m#The try clause is followed by an except clause. The except clause can be used to handle a specific exception, or it can be used to\u001b[39;00m\n\u001b[1;32m      3\u001b[0m       \u001b[38;5;66;03m# handle any exception.\u001b[39;00m\n\u001b[1;32m      4\u001b[0m \n\u001b[1;32m      5\u001b[0m       \u001b[38;5;66;03m#For example, the following code uses the try and except clauses to handle a KeyError exception:\u001b[39;00m\n\u001b[1;32m      7\u001b[0m \u001b[38;5;28;01mtry\u001b[39;00m:\n\u001b[0;32m----> 8\u001b[0m     \u001b[43mdictionary\u001b[49m[\u001b[38;5;124m\"\u001b[39m\u001b[38;5;124mkey\u001b[39m\u001b[38;5;124m\"\u001b[39m]\n\u001b[1;32m      9\u001b[0m \u001b[38;5;28;01mexcept\u001b[39;00m \u001b[38;5;167;01mKeyError\u001b[39;00m:\n\u001b[1;32m     10\u001b[0m     \u001b[38;5;28mprint\u001b[39m(\u001b[38;5;124m\"\u001b[39m\u001b[38;5;124mThe key does not exist.\u001b[39m\u001b[38;5;124m\"\u001b[39m)\n",
      "\u001b[0;31mNameError\u001b[0m: name 'dictionary' is not defined"
     ]
    }
   ],
   "source": [
    "#Ans:->#The try clause in Python is used to execute code that may raise an exception. The except clause is used to handle the exception.\n",
    "      #The try clause is followed by an except clause. The except clause can be used to handle a specific exception, or it can be used to\n",
    "      # handle any exception.\n",
    "\n",
    "      #For example, the following code uses the try and except clauses to handle a KeyError exception:\n",
    "    \n",
    "#try:\n",
    "#    dictionary[\"key\"]\n",
    "#except KeyError:\n",
    " #   print(\"The key does not exist.\")\n",
    "    \n",
    "    \n",
    "#If the dictionary dictionary does not have a key called key, the KeyError exception will be raised. The except clause will then be executed,\n",
    "#and the message \"The key does not exist.\" will be printed.\n",
    "\n",
    "try:\n",
    "    1 / 0\n",
    "except ZeroDivisionError:\n",
    "    print(\"Division by zero.\")\n",
    "    \n",
    "#if the code tries to divide by zero, the ZeroDivisionError exception will be raised. The except clause will then be executed, and the message\n",
    "#\"Division by zero.\" will be printed.\n",
    "\n",
    "#The try and except clauses can be used to prevent your program from crashing if it encounters an error. By using the try and except clauses, \n",
    "#you can handle the error and allow your program to continue running. \n"
   ]
  },
  {
   "cell_type": "code",
   "execution_count": null,
   "id": "62551c92-ca5c-4df2-9bb5-1d8d2ce97d33",
   "metadata": {},
   "outputs": [],
   "source": []
  }
 ],
 "metadata": {
  "kernelspec": {
   "display_name": "Python 3 (ipykernel)",
   "language": "python",
   "name": "python3"
  },
  "language_info": {
   "codemirror_mode": {
    "name": "ipython",
    "version": 3
   },
   "file_extension": ".py",
   "mimetype": "text/x-python",
   "name": "python",
   "nbconvert_exporter": "python",
   "pygments_lexer": "ipython3",
   "version": "3.10.6"
  }
 },
 "nbformat": 4,
 "nbformat_minor": 5
}
