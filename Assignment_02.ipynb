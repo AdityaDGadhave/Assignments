{
 "cells": [
  {
   "cell_type": "markdown",
   "id": "4727c1ff-6b51-4585-9227-21c886e3bf47",
   "metadata": {},
   "source": [
    "1.What are the two values of the Boolean data type? How do you write them?"
   ]
  },
  {
   "cell_type": "code",
   "execution_count": null,
   "id": "07e3fce7-14cc-42c6-90a5-27f6db61372d",
   "metadata": {},
   "outputs": [],
   "source": [
    "#Ans:->The two values of the Boolean data type are \"true\" and \"false\". in python these values are represented using the\n",
    "#keywords \"true\" and \"false\" (without quotation marks).\n",
    "\n",
    "#ex \n",
    "a=True\n",
    "b=False\n"
   ]
  },
  {
   "cell_type": "markdown",
   "id": "ce06715a-3b3a-4d57-affd-24ee18e8c632",
   "metadata": {},
   "source": [
    "2)What are the three different types of Boolean operators"
   ]
  },
  {
   "cell_type": "code",
   "execution_count": 5,
   "id": "a22e33c2-fe14-4321-8431-aa89350b42c9",
   "metadata": {},
   "outputs": [
    {
     "name": "stdout",
     "output_type": "stream",
     "text": [
      "False\n",
      "True\n",
      "True\n"
     ]
    }
   ],
   "source": [
    "#Ans:->The three different types of Boolean operators are:-\n",
    "#1)AND Operator:The AND operator is used to combine two or more conditions and returns true only if all the conditions are true.\n",
    "#Ex:=> \n",
    "a=True\n",
    "b=False\n",
    "print(a and b)\n",
    "\n",
    "#2) OR operator: The OR operator is used to combine two or more conditions and returns true if at least one of the conditions is true\n",
    "a=True\n",
    "b=False\n",
    "print(a or b)\n",
    "#3NOT operator: The NOT operator is used to negate or reverse the logical state of a condition. It returns true if the condition is false, \n",
    "#and false if the condition is true\n",
    "a=True\n",
    "b=False\n",
    "print(not a)\n",
    "print(not b )"
   ]
  },
  {
   "cell_type": "markdown",
   "id": "7a9359b7-96da-4b13-8f9b-8ed1b758812b",
   "metadata": {},
   "source": [
    "#3)Make a list of each Boolean operator&#39;s truth tables (i.e. every possible combination of Boolean\n",
    "#values for the operator and what it evaluate )."
   ]
  },
  {
   "cell_type": "code",
   "execution_count": null,
   "id": "3715d799-cf80-4c72-8a3e-caded93ccac2",
   "metadata": {},
   "outputs": [],
   "source": [
    "#Ans:->#1) AND operator(&):->\n",
    "'''A\t  b\t   A and B\n",
    "true\ttrue\ttrue\n",
    "true\tfalse\tfalse\n",
    "false\ttrue\tfalse\n",
    "false\tfalse\tfalse'''\n",
    "\n",
    "#2)OR operator:(||)->\n",
    "\n",
    "'''A\t  B\t   A or B\n",
    " true\ttrue\ttrue\n",
    " true\tfalse\ttrue\n",
    " false\ttrue\ttrue\n",
    " false\tfalse\tfalse'''\n",
    "\n",
    "#3)NOT operator(!):->\n",
    "\n",
    "'''A\tnot A\n",
    "true\tfalse\n",
    "false\ttrue'''\n",
    "\n"
   ]
  },
  {
   "cell_type": "markdown",
   "id": "31fb707b-ba1f-4014-8b4a-8a8282731c13",
   "metadata": {},
   "source": [
    "4)What are the values of the following expressions?"
   ]
  },
  {
   "cell_type": "code",
   "execution_count": null,
   "id": "2389bb9e-935d-45f8-a3b2-a76f99a5d625",
   "metadata": {},
   "outputs": [],
   "source": [
    "#Ans:-> The values of the expressions are as follows:\n",
    "\n",
    "'''1)(5 > 4) and (3 == 5) evaluates to False.\n",
    "2)not (5 > 4) evaluates to False.\n",
    "3)(5 > 4) or (3 == 5) evaluates to True.\n",
    "4)not ((5 > 4) or (3 == 5)) evaluates to False.\n",
    "5)(True and True) and (True == False) evaluates to False.\n",
    "6)(not False) or (not True) evaluates to True.'''"
   ]
  },
  {
   "cell_type": "markdown",
   "id": "119c49f8-6388-4324-a840-83c10a5f7535",
   "metadata": {},
   "source": [
    "5)What are the six comparison operators?"
   ]
  },
  {
   "cell_type": "code",
   "execution_count": null,
   "id": "f14d441e-0909-4816-a06d-07266ab82ef1",
   "metadata": {},
   "outputs": [],
   "source": [
    "#Ans:-> In Python, there are six comparison operators. They are:\n",
    "\n",
    "'''1)Less than (<)\n",
    "  2)Less than or equal to (<=)\n",
    "  3)Greater than (>)\n",
    "  4)Greater than or equal to (>=)\n",
    "  5)Equal to (==)\n",
    "  6)Not equal to (!=)'''"
   ]
  },
  {
   "cell_type": "markdown",
   "id": "808209f6-43cc-4087-a247-d54b23f0d980",
   "metadata": {},
   "source": [
    "6)How do you tell the difference between the equal to and assignment operators?Describe a\n",
    "condition and when you would use one."
   ]
  },
  {
   "cell_type": "code",
   "execution_count": 9,
   "id": "3f05ed0b-8801-49c1-99ad-593d5fde7192",
   "metadata": {},
   "outputs": [
    {
     "name": "stdout",
     "output_type": "stream",
     "text": [
      "True\n"
     ]
    }
   ],
   "source": [
    "#Ans:->The equal to operator (==) is used to compare two values and return a Boolean value, either True or False. The assignment operator\n",
    "#(=) is used to assign a value to a variable.\n",
    "\n",
    "#Ex \n",
    "a=5 #here we assign 5 value to a with the help of = operator\n",
    "b=5\n",
    "if a==b:             # In this example, the code will print \"a and b are equal\" if the values of a and b are equal because of ==.\n",
    "    print(\"True\")\n",
    "   \n",
    "       "
   ]
  },
  {
   "cell_type": "markdown",
   "id": "5309f40c-c445-4173-99c8-e0497723b0d2",
   "metadata": {},
   "source": [
    "7)Identify the three blocks in this code:\n",
    "spam = 0\n",
    "if spam == 10:\n",
    "print('eggs')\n",
    "if spam &gt; 5:\n",
    "print('bacon')\n",
    "else:\n",
    "print('ham')\n",
    "print('spam')\n",
    "print('spam')"
   ]
  },
  {
   "cell_type": "code",
   "execution_count": null,
   "id": "8efb1757-7b51-4319-8843-1c5e47881ceb",
   "metadata": {},
   "outputs": [],
   "source": [
    "#Ans:->Block 1 The first block is the assignment statement:\n",
    "spam = 0\n",
    "\n",
    "#2) The second block is the if-else statement:\n",
    "if spam == 10:\n",
    "    print(\"eggs\")\n",
    "else:\n",
    "    if spam > 5:\n",
    "        print(\"bacon\")\n",
    "    else:\n",
    "        print(\"ham\")\n",
    "        \n",
    "#3)The third block is the print statement   \n",
    "print(\"spam\")\n",
    "print(\"spam\")\n",
    "'''The first block assigns the value 0 to the variable spam. The second block checks if the value of spam is equal to 10. \n",
    "If it is, the code prints \"eggs\". If it is not, the code checks if the value of spam is greater than 5. If it is, the code prints \"bacon\". \n",
    "If it is not, the code prints \"ham\". The third block prints \"spam\" twice.\n",
    "The blocks in the code are separated by indentation. In Python, indentation is used to indicate blocks of code. \n",
    "The amount of indentation determines the nesting level of the blocks'''"
   ]
  },
  {
   "cell_type": "markdown",
   "id": "f85df5eb-6fed-4641-9c6d-e1063faf2944",
   "metadata": {},
   "source": [
    "8)Write code that prints Hello if 1 is stored in spam, prints Howdy if 2 is stored in spam, and prints\n",
    "Greetings! if anything else is stored in spam."
   ]
  },
  {
   "cell_type": "code",
   "execution_count": 10,
   "id": "639f931b-9a17-4f88-bf32-06cd236cbf0f",
   "metadata": {},
   "outputs": [
    {
     "name": "stdin",
     "output_type": "stream",
     "text": [
      "Enter a number:  1\n"
     ]
    },
    {
     "name": "stdout",
     "output_type": "stream",
     "text": [
      "Hello\n"
     ]
    }
   ],
   "source": [
    "#Ans:->\n",
    "spam = int(input(\"Enter a number: \"))\n",
    "\n",
    "if spam == 1:\n",
    "    print(\"Hello\")\n",
    "elif spam == 2:\n",
    "    print(\"Howdy\")\n",
    "else:\n",
    "    print(\"Greetings\")"
   ]
  },
  {
   "cell_type": "markdown",
   "id": "78fe0342-2d4f-4e03-a3e2-853d92ec1cd3",
   "metadata": {},
   "source": [
    "9.If your programme is stuck in an endless loop, what keys you’ll press"
   ]
  },
  {
   "cell_type": "code",
   "execution_count": null,
   "id": "d8ed7c85-e536-4839-b3a7-ba2dda8eec48",
   "metadata": {},
   "outputs": [],
   "source": [
    "#Ans:-> If programme is stuck in endless loop to  which key is press is depending on your operating system.\n",
    "'''i have window operating system \n",
    "For Window/Linux:-> Pressing Ctrl + C  it will terminate the programme'''\n"
   ]
  },
  {
   "cell_type": "markdown",
   "id": "375efe8a-dbf1-4009-8a32-00ec7ccef62f",
   "metadata": {},
   "source": [
    "10)How can you tell the difference between break and continue?"
   ]
  },
  {
   "cell_type": "code",
   "execution_count": 11,
   "id": "b76f2ca9-6e4e-4f35-94f2-f3bb57cff42d",
   "metadata": {},
   "outputs": [
    {
     "name": "stdout",
     "output_type": "stream",
     "text": [
      "0\n",
      "1\n",
      "2\n",
      "3\n",
      "4\n"
     ]
    }
   ],
   "source": [
    "#Ans:->The break and continue statements are used to control the flow of execution in a loop.\n",
    "#1)Break Statment:->The break statement terminates the loop. the execution of the programme is completly stop here\n",
    "\n",
    "#Ex\n",
    "for i in range(10):\n",
    "    if i == 5:\n",
    "        break\n",
    "    print(i)\n",
    "    \n",
    "#2)continue statements:->continue statement skips the current iteration of the loop and continues with the next iteration.execution of \n",
    "#program continue here.\n",
    "\n",
    "#EX\n",
    "for i in range(10):\n",
    "    if i % 2 == 0:\n",
    "        continue\n",
    "    print(i)"
   ]
  },
  {
   "cell_type": "markdown",
   "id": "7315301d-09e6-4399-a03b-6c594869656d",
   "metadata": {},
   "source": [
    "11)In a for loop, what is the difference between range(10), range(0, 10), and range(0, 10, 1)?"
   ]
  },
  {
   "cell_type": "code",
   "execution_count": null,
   "id": "e6237cf0-ca79-4991-a9f8-e938b94e207b",
   "metadata": {},
   "outputs": [],
   "source": [
    "#Ans:->1) range(10) creates a range of numbers from 0 to 9, inclusive\n",
    "for i in range(10):\n",
    "    print(i)\n",
    "    \n",
    "#2) range(0, 10) creates a range of numbers from 0 to 9, exclusive.\n",
    "for i in range(0,10):\n",
    "    print(i)\n",
    "\n",
    "#3)range(0, 10, 1) creates a range of numbers from 0 to 9, inclusive, with a step size of 1. \n",
    "for i in range(0,10,1):\n",
    "    print(i)\n",
    "    "
   ]
  },
  {
   "cell_type": "markdown",
   "id": "4ece52ac-5c97-424f-8528-3075d405734f",
   "metadata": {},
   "source": [
    "12)Write a short program that prints the numbers 1 to 10 using a for loop. Then write an equivalent\n",
    "program that prints the numbers 1 to 10 using a while loop."
   ]
  },
  {
   "cell_type": "code",
   "execution_count": null,
   "id": "76a9e777-89e5-46b0-9d88-4bce54ff1ede",
   "metadata": {},
   "outputs": [],
   "source": [
    "#Ans:->\n",
    "#1) For loop\n",
    "for i in range(1,11):\n",
    "    print(i)\n",
    "    \n",
    "    \n",
    "#2) while loop\n",
    "i = 1\n",
    "while i <= 10:\n",
    "    print(i)\n",
    "    i += 1"
   ]
  },
  {
   "cell_type": "markdown",
   "id": "61507564-0747-4b92-bb4e-16ab9e00ce25",
   "metadata": {},
   "source": [
    "13)If you had a function named bacon() inside a module named spam, how would you call it after\n",
    "importing spam?"
   ]
  },
  {
   "cell_type": "code",
   "execution_count": null,
   "id": "e430a7cc-5e93-41f8-a228-ba2fd4889e5e",
   "metadata": {},
   "outputs": [],
   "source": [
    "#Ans:->After importing the \"spam\" module, you can call the \"bacon()\" function by using the dot notation to access the \n",
    "#function within the module.\n",
    "import spam\n",
    "\n",
    "spam.bacon()"
   ]
  }
 ],
 "metadata": {
  "kernelspec": {
   "display_name": "Python 3 (ipykernel)",
   "language": "python",
   "name": "python3"
  },
  "language_info": {
   "codemirror_mode": {
    "name": "ipython",
    "version": 3
   },
   "file_extension": ".py",
   "mimetype": "text/x-python",
   "name": "python",
   "nbconvert_exporter": "python",
   "pygments_lexer": "ipython3",
   "version": "3.10.6"
  }
 },
 "nbformat": 4,
 "nbformat_minor": 5
}
