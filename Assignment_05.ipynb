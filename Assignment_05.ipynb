{
 "cells": [
  {
   "cell_type": "markdown",
   "id": "683929d4-e628-4e48-b656-bf898f27aef6",
   "metadata": {},
   "source": [
    "1. What does an empty dictionary is code look like?"
   ]
  },
  {
   "cell_type": "code",
   "execution_count": 3,
   "id": "1a773d60-fff7-49b7-bb35-bcbc1b369f01",
   "metadata": {},
   "outputs": [
    {
     "name": "stdout",
     "output_type": "stream",
     "text": [
      "{}\n",
      "<class 'dict'>\n"
     ]
    }
   ],
   "source": [
    "#Ans:-> In python dictionary is one of the important datatypes.\n",
    "#       where value is store in pairs of keys and values.\n",
    "\n",
    "#For dictionary {} is used\n",
    "dict_empty={}\n",
    "print(dict_empty)\n",
    "\n"
   ]
  },
  {
   "cell_type": "markdown",
   "id": "deea4209-149b-44f0-9244-a7a7c8f11d28",
   "metadata": {},
   "source": [
    "2. What is the value of a dictionary value with the key &#39;foo&#39; and the value 42?"
   ]
  },
  {
   "cell_type": "code",
   "execution_count": 10,
   "id": "8fa0a307-5463-48b9-9346-80b41fbd042b",
   "metadata": {},
   "outputs": [
    {
     "name": "stdout",
     "output_type": "stream",
     "text": [
      "45\n"
     ]
    }
   ],
   "source": [
    "#Ans:->The value of a dictionary value with the key foo and the value 42 is 42.\n",
    "\n",
    "dict1={'foo':45}\n",
    "\n",
    "val=dict1['foo']       #with this we can access  the values \n",
    "val1=dict1.get('foo')  # we can access value by using get() method also\n",
    "print(val1)"
   ]
  },
  {
   "cell_type": "markdown",
   "id": "b6ef05d4-e2d2-4d4f-be26-0ea69b084b0b",
   "metadata": {},
   "source": [
    "3. What is the most significant distinction between a dictionary and a list?"
   ]
  },
  {
   "cell_type": "code",
   "execution_count": null,
   "id": "6f468b53-453c-4fd0-98e6-f037e5f86f6e",
   "metadata": {},
   "outputs": [],
   "source": [
    "#Ans:->In Python is that dictionaries are unordered, while lists are ordered. This means that the order in which you add elements to a \n",
    "#      dictionary does not matter, while the order in which you add elements to a list does matter.\n",
    "    \n",
    "#      Another difference between dictionaries and lists is that dictionaries use keys to access elements, while lists use indices.\n",
    "#      This means that can access an element in a dictionary by its key, while you can access an element in a list by its index.\n",
    "    \n",
    " #   in dictionary item stored is form of key-value pair but not in list.\n",
    "\n",
    " #    in dictionary curly brackets'{}' are used and list square brackets  are used.\n",
    "        \n"
   ]
  },
  {
   "cell_type": "markdown",
   "id": "2f6cadfd-def6-4882-bf3c-99eb962a8bb6",
   "metadata": {},
   "source": [
    "4. What happens if you try to access spam['foo'] if spam is {'bar': 100}?"
   ]
  },
  {
   "cell_type": "code",
   "execution_count": null,
   "id": "3662026e-4005-4367-9b1c-f03023e66124",
   "metadata": {},
   "outputs": [],
   "source": [
    "#Ans:->If you try to access spam['foo'] if spam is {'bar': 100}, you will get a KeyError error. \n",
    "#      This is because the key foo does not exist in the dictionary spam.\n",
    "spam = {'bar': 100}\n",
    "value = spam['foo'] \n",
    "print(value)        #key error"
   ]
  },
  {
   "cell_type": "markdown",
   "id": "fc695bc1-cbd6-48a5-be6e-a52c8488b9b5",
   "metadata": {},
   "source": [
    "5. If a dictionary is stored in spam, what is the difference between the expressions 'cat' in spam and\n",
    "'cat' in spam.keys()?"
   ]
  },
  {
   "cell_type": "code",
   "execution_count": 1,
   "id": "24feddda-e457-45de-b9f3-aa868c8329c8",
   "metadata": {},
   "outputs": [
    {
     "name": "stdout",
     "output_type": "stream",
     "text": [
      "True\n",
      "True\n"
     ]
    }
   ],
   "source": [
    "#Ans:-> There is no difference between the expressions 'cat' in spam and 'cat' in spam.keys(). Both expressions will return True if the dictionary spam has a key of 'cat', and False otherwise.\n",
    "\n",
    "#The in operator checks whether a value exists as a key in a dictionary. The keys() method returns a list of all the keys in a dictionary. So, both expressions are essentially checking whether the value 'cat' exists as a key in the dictionary spam.\n",
    "\n",
    "#Here is an example:\n",
    "\n",
    "\n",
    "spam = {'cat': 'meow', 'dog': 'bow'}          # if key cat is not present then then answer is false otherwise its true..\n",
    "\n",
    "print('cat' in spam)\n",
    "print('cat' in spam.keys())"
   ]
  },
  {
   "cell_type": "markdown",
   "id": "726d11d8-fa75-459b-af28-eaa8c936bb0c",
   "metadata": {},
   "source": [
    "6. If a dictionary is stored in spam, what is the difference between the expressions 'cat' in spam and\n",
    "'cat'; in spam.values()?"
   ]
  },
  {
   "cell_type": "code",
   "execution_count": 2,
   "id": "bbce35f3-24fb-4b0b-ad05-090610eca368",
   "metadata": {},
   "outputs": [
    {
     "name": "stdout",
     "output_type": "stream",
     "text": [
      "True\n",
      "False\n"
     ]
    }
   ],
   "source": [
    "#Ans:->The expressions 'cat' in spam and 'cat' in spam.values() are different. The former expression checks whether the value 'cat'\n",
    "#     exists as a key in the dictionary spam, while the latter expression checks whether the value 'cat' exists as a value in the dictionary spam.\n",
    "\n",
    "#     The in operator checks whether a value exists as a key in a dictionary. The values() method returns a list of all the values in a\n",
    "#    dictionary. So, the expression 'cat' in spam is essentially checking whether the value 'cat' exists as a key in the dictionary spam.\n",
    "\n",
    "#    The expression 'cat' in spam.values(), on the other hand, is checking whether the value 'cat' exists as a value in the dictionary spam. \n",
    "#    This means that the expression will return True if the dictionary spam has a value of 'cat' for one of its keys,\n",
    "#    even if the key is not 'cat'.\n",
    "    \n",
    "    \n",
    "spam = {'cat': 'meow', 'dog': 'woof'}\n",
    "\n",
    "print('cat' in spam)             # here we get true because cat key is present\n",
    "print('cat' in spam.values())    #  spam.values() check for cat value but cat value is nor present thats why false is print"
   ]
  },
  {
   "cell_type": "markdown",
   "id": "039869c3-50f4-4869-a87e-5d8ff0589011",
   "metadata": {},
   "source": [
    "7.What is a shortcut for the following code?\n",
    "if 'color' not in spam:\n",
    "spam['color'] = 'black'"
   ]
  },
  {
   "cell_type": "code",
   "execution_count": 3,
   "id": "864e21be-fb96-482a-9be3-012529b99f13",
   "metadata": {},
   "outputs": [
    {
     "name": "stdout",
     "output_type": "stream",
     "text": [
      "{'color': 'black'}\n"
     ]
    }
   ],
   "source": [
    "#Ans:-> #The shortcut for the code if 'color' not in spam: spam['color'] = 'black' is\n",
    "       #The setdefault() method takes two arguments: the key and the default value. If the key exists in the dictionary,\n",
    "       #the method returns the value associated with the key. If the key does not exist in the dictionary, the method creates a new key-value \n",
    "       #pair with the key and the default value.\n",
    "spam = {}\n",
    "\n",
    "spam.setdefault('color', 'black')\n",
    "\n",
    "print(spam)    "
   ]
  },
  {
   "cell_type": "markdown",
   "id": "0aa4a7ad-f055-4192-982d-02415f1f6866",
   "metadata": {},
   "source": [
    "8. How do you \"pretty print\" dictionary values using which module and function?"
   ]
  },
  {
   "cell_type": "code",
   "execution_count": null,
   "id": "0892e0d8-88b1-4e19-9e1a-5aca79a45599",
   "metadata": {},
   "outputs": [],
   "source": [
    "#Ans:->in Python, we can use the 'pprint' module and the pprint() function. The pprint() function takes an object as input and returns a string representation of the object with appropriate indentation and line breaks.\n"
   ]
  }
 ],
 "metadata": {
  "kernelspec": {
   "display_name": "Python 3 (ipykernel)",
   "language": "python",
   "name": "python3"
  },
  "language_info": {
   "codemirror_mode": {
    "name": "ipython",
    "version": 3
   },
   "file_extension": ".py",
   "mimetype": "text/x-python",
   "name": "python",
   "nbconvert_exporter": "python",
   "pygments_lexer": "ipython3",
   "version": "3.10.6"
  }
 },
 "nbformat": 4,
 "nbformat_minor": 5
}
