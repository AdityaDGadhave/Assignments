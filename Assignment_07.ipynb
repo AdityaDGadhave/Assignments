{
 "cells": [
  {
   "cell_type": "markdown",
   "id": "29a5709f-d9ce-47b8-b78c-7141225a2bdf",
   "metadata": {},
   "source": [
    "Q.1. Create two int type variables, apply addition, subtraction, division and multiplications\n",
    "and store the results in variables. Then print the data in the following format by calling the\n",
    "variables:\n",
    "First variable is __ & second variable is __.\n",
    "Addition: __ + __ = __\n",
    "Subtraction: __ - __ = __\n",
    "Multiplication: __ * __ = __\n",
    "Division: __ / __ = __"
   ]
  },
  {
   "cell_type": "code",
   "execution_count": 7,
   "id": "e95d3fe1-581e-4904-8c8f-c6a65a40f50b",
   "metadata": {},
   "outputs": [
    {
     "name": "stdout",
     "output_type": "stream",
     "text": [
      "Addition of 9 and 5 is:-> 14\n",
      "Substraction of 9 and 5 is:-> 4\n",
      "Mutiplication of 9 and 5 is 45\n",
      "Division of 9 and 5 is:-> 1.8\n"
     ]
    }
   ],
   "source": [
    "#Ans:->\n",
    "\n",
    "first_var=9\n",
    "second_var=5\n",
    "\n",
    "Addition=first_var+second_var\n",
    "Subtraction=first_var - second_var\n",
    "Multiplication=first_var * second_var\n",
    "Division=first_var / second_var\n",
    "print(f'Addition of {first_var} and {second_var} is:->',Addition)\n",
    "print(f'Substraction of {first_var} and {second_var} is:->', Subtraction )\n",
    "print(f'Mutiplication of {first_var} and {second_var} is', Multiplication)\n",
    "print(f'Division of {first_var} and {second_var} is:->', Division)"
   ]
  },
  {
   "cell_type": "markdown",
   "id": "9e076c90-4c23-4cda-ab6f-64ddc4e45d4a",
   "metadata": {},
   "source": [
    "Q.2. What is the difference between the following operators:\n",
    "(i) ‘/’ & ‘//’\n",
    "(ii) ‘**’ & ‘^’"
   ]
  },
  {
   "cell_type": "code",
   "execution_count": 10,
   "id": "4a45827f-cb6b-4048-b14e-d0085a9451fa",
   "metadata": {},
   "outputs": [
    {
     "name": "stdout",
     "output_type": "stream",
     "text": [
      "11.25\n",
      "11\n",
      "144\n",
      "14\n"
     ]
    }
   ],
   "source": [
    "#Ans:-> (i) ‘/’ & ‘//’:-> \n",
    "\n",
    "#                        '/' is the normal division operator. It returns a floating-point number\n",
    " #                       '//' is the floor division operator. It returns the integer value of the quotient\n",
    "var1=45\n",
    "var2=4\n",
    "print(var1/var2)   # answer is return as floating point number\n",
    "print(var1//var2) # answer always return in an integer number\n",
    "\n",
    "\n",
    "\n",
    "#(ii) ** & ^:->\n",
    "#               ** is the exponentiation operator. It raises the first operand to the power of the second operand.\n",
    "#               ^ is the bitwise XOR operator. It returns 1 if the corresponding bits of the two operands are different, and 0 if they are the same.\n",
    "val1=12**2\n",
    "val2=12^2\n",
    "print(val1)\n",
    "print(val2)"
   ]
  },
  {
   "cell_type": "markdown",
   "id": "9c8080fe-63da-4d73-9c90-7f381247398c",
   "metadata": {},
   "source": [
    "Q.3. List the logical operators."
   ]
  },
  {
   "cell_type": "code",
   "execution_count": null,
   "id": "f570615d-7108-482f-9285-09e370d25d11",
   "metadata": {},
   "outputs": [],
   "source": [
    "#Ans:-> In python three logical operator are present as follow\n",
    "      \n",
    "   # and,or,Not\n",
    "#and: The and operator returns True if both operands are True, and False otherwise. It performs logical conjunction. \n",
    "\n",
    "x = 5\n",
    "y = 9\n",
    "\n",
    "print(x > 5 and y < 30)\n",
    "\n",
    "#or: The or operator returns True if at least one of the operands is True, and False otherwise.\n",
    "\n",
    "x = 5\n",
    "y = 9\n",
    "\n",
    "print(x < 5 or y > 30)\n",
    "\n",
    "\n",
    "#not: The not operator returns the opposite boolean value of the operand. If the operand is True, it returns False, and if the operand is False, \n",
    "#     it returns True\n",
    "    \n",
    "x = 5\n",
    "y = 9\n",
    "\n",
    "print(not x > 5)"
   ]
  },
  {
   "cell_type": "markdown",
   "id": "1fa3de41-203f-479f-9448-28fb856fa576",
   "metadata": {},
   "source": [
    "Q.4. Explain right shift operator and left shift operator with examples."
   ]
  },
  {
   "cell_type": "code",
   "execution_count": 16,
   "id": "16a6a99b-4e3a-4105-83c2-5253bcff011a",
   "metadata": {},
   "outputs": [
    {
     "name": "stdout",
     "output_type": "stream",
     "text": [
      "3\n",
      "60\n"
     ]
    }
   ],
   "source": [
    "#Ans:->The right shift operator (>>) and the left shift operator (<<) are bitwise operators that are used to shift the bits of a number to the right \n",
    "#or left, respectively. The number of bits that are shifted is specified by the second operand.\n",
    "\n",
    "#right shift operator (>>):->\n",
    "\n",
    "number = 15\n",
    "\n",
    "shifted_number = number >> 2       #This code will print the number 2, because 10 shifted to the right by 2 is 2.\n",
    "\n",
    "print(shifted_number)\n",
    "\n",
    "\n",
    "#left shift operator (<<):->The left shift operator works in a similar way, but the bits are shifted to the left instead of the right. For example, the following code will shift the bits of the number 10 to the \n",
    "                            #left by 2\n",
    "number = 15\n",
    "\n",
    "shifted_number = number << 2\n",
    "\n",
    "print(shifted_number)    "
   ]
  },
  {
   "cell_type": "markdown",
   "id": "7c59f76c-5ef9-4542-a39e-99c8622fa21c",
   "metadata": {},
   "source": [
    "Q.5. Create a list containing int type data of length 15. Then write a code to check if 10 is\n",
    "present in the list or not."
   ]
  },
  {
   "cell_type": "code",
   "execution_count": 19,
   "id": "9597a60c-95da-4415-9e76-0fd15e6127f5",
   "metadata": {},
   "outputs": [
    {
     "name": "stdout",
     "output_type": "stream",
     "text": [
      "10 is present is my_list\n"
     ]
    }
   ],
   "source": [
    "#Ans->  \n",
    "my_list = [1, 2, 3, 4, 5, 6, 7, 8, 9, 10, 11, 12, 13, 14, 15]\n",
    "\n",
    "if  10 in my_list:\n",
    "    print('10 is present is my_list')\n",
    "else:\n",
    "    print('Sorry, 10 is not present is mu_list')"
   ]
  },
  {
   "cell_type": "code",
   "execution_count": null,
   "id": "541c50bc-0406-4f55-bf00-53e0c9950382",
   "metadata": {},
   "outputs": [],
   "source": []
  }
 ],
 "metadata": {
  "kernelspec": {
   "display_name": "Python 3 (ipykernel)",
   "language": "python",
   "name": "python3"
  },
  "language_info": {
   "codemirror_mode": {
    "name": "ipython",
    "version": 3
   },
   "file_extension": ".py",
   "mimetype": "text/x-python",
   "name": "python",
   "nbconvert_exporter": "python",
   "pygments_lexer": "ipython3",
   "version": "3.10.6"
  }
 },
 "nbformat": 4,
 "nbformat_minor": 5
}
