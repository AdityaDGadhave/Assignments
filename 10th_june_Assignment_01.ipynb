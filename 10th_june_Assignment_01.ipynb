{
 "cells": [
  {
   "cell_type": "markdown",
   "id": "b9030943-e8f1-486a-98b4-55f609fb9b3a",
   "metadata": {},
   "source": [
    "1. In Python, what is the difference between a built-in function and a user-defined function? Provide an\n",
    "example of each."
   ]
  },
  {
   "cell_type": "code",
   "execution_count": 1,
   "id": "67c0cbe4-d3ea-46ab-859a-d366692eda40",
   "metadata": {},
   "outputs": [
    {
     "name": "stdout",
     "output_type": "stream",
     "text": [
      "Hello Ineuron\n",
      "Full stack data science\n"
     ]
    }
   ],
   "source": [
    "#Ans:->\n",
    "\n",
    "#Built-in functions:->Built-in functions are functions that are already defined in the Python programming language. They are available \n",
    "\n",
    "                     #for use in any Python program, without the need to define them first.\n",
    "    \n",
    "                     #ex:-> print(), len(), and sum().         \n",
    "        \n",
    "print('Hello Ineuron')      #inbuild function\n",
    "\n",
    "#User-defined functions:->User-defined functions are functions that you define yourself. You can define a user-defined function to perform\n",
    "\n",
    "                          #any task that you want.To define a user-defined function, you use the def keyword.\n",
    "    \n",
    "def Course():\n",
    "    print('Full stack data science')  #user define fuction . used for reusability of code.\n",
    "Course()    \n",
    "    \n"
   ]
  },
  {
   "cell_type": "markdown",
   "id": "c40216f0-f344-4520-971b-0e3084022d57",
   "metadata": {},
   "source": [
    "2.How can you pass arguments to a function in Python? Explain the difference between positional\n",
    "arguments and keyword arguments."
   ]
  },
  {
   "cell_type": "code",
   "execution_count": 5,
   "id": "58824436-0029-4ebd-9d8e-d96bea826441",
   "metadata": {},
   "outputs": [
    {
     "name": "stdout",
     "output_type": "stream",
     "text": [
      "8\n",
      "4.0\n"
     ]
    }
   ],
   "source": [
    "#Ans:->\n",
    "      \n",
    "#Positional arguments:->Positional arguments are the most common way to pass arguments to a function. The arguments are simply listed in the function call, \n",
    "#                       in the order that they are defined in the function definition. For example, the following code defines a function \n",
    "#                        called add()that takes two positional arguments\n",
    "                 # positional arguments must be passed in the order that they are defined in the function definition\n",
    "#Ex:->\n",
    "def Addition(a,b):  \n",
    "    return a+b\n",
    "print(Addition(6,2))           #positional argument\n",
    "\n",
    "#Keyword arguments->Keyword arguments are a way to pass arguments to a function by name. The keyword arguments are listed after the positional\n",
    "\n",
    "                  # arguments, and they are separated by commas. The name of the argument is followed by an equal sign, and then the value \n",
    "    \n",
    "                   #of the argument. For example,the following code defines a function called multiply() that takes two keyword arguments\n",
    "def Division(x,y):\n",
    "    return x/y\n",
    "print(Division(x=8,y=2))     #keyword argument always override positional argument.  keyword arguments can be passed in any order\n"
   ]
  },
  {
   "cell_type": "markdown",
   "id": "6e3cff7e-7fb0-461c-8ee2-8f3210d87bff",
   "metadata": {},
   "source": [
    "3. What is the purpose of the return statement in a function? Can a function have multiple return\n",
    "statements? Explain with an example."
   ]
  },
  {
   "cell_type": "code",
   "execution_count": 1,
   "id": "6c45b49d-ee79-4cbd-b749-20f48a4919a8",
   "metadata": {},
   "outputs": [
    {
     "name": "stdout",
     "output_type": "stream",
     "text": [
      "120\n",
      "8\n"
     ]
    }
   ],
   "source": [
    "#Ans:->The return statement in Python is used to end the execution of a function and return a value back to the caller. \n",
    "#      The value that is returned can be any Python object, such as a number, a string, a list, a tuple, or a dictionary\n",
    "       \n",
    "      # The return statement can be used anywhere within a function, but it is most commonly used at the end of the function to return\n",
    "        #the value of the function\n",
    "    \n",
    "def factorial(n):\n",
    " \n",
    "  if n == 0:\n",
    "    return 1   #return statement is encountered in a function,it immediately terminates the functions execution and passes the specified value back \n",
    "                #to the caller\n",
    "  else:\n",
    "    return n * factorial(n - 1)        \n",
    "print(factorial(5))\n",
    "\n",
    "\n",
    "\n",
    "#A function can have multiple return statements, but only the first return statement that is executed will be returned to the caller.\n",
    "def max_(a, b, c):\n",
    "\n",
    "  if a > b:\n",
    "    if a > c:\n",
    "      return a      # here i used multiple returns\n",
    "    else:\n",
    "      return c\n",
    "  else:\n",
    "    if b > c:\n",
    "      return b\n",
    "    else:\n",
    "      return c\n",
    "print(max_(4,8,7))"
   ]
  },
  {
   "cell_type": "markdown",
   "id": "cd56a53a-f673-438c-abbc-bad725c0cbbf",
   "metadata": {},
   "source": [
    "4. What are lambda functions in Python? How are they different from regular functions? Provide an\n",
    "example where a lambda function can be useful."
   ]
  },
  {
   "cell_type": "code",
   "execution_count": 11,
   "id": "b76ee7cb-d209-4458-89f0-70741b6b78ba",
   "metadata": {},
   "outputs": [
    {
     "name": "stdout",
     "output_type": "stream",
     "text": [
      "25\n"
     ]
    }
   ],
   "source": [
    "#Ans:->\n",
    "\n",
    "#Lambda functions:->Lambda functions are anonymous functions that can be defined inline. They are often used as short, one-line \n",
    "\n",
    "#                  functions that are passed as arguments to other functions.\n",
    "    \n",
    "#                   we use lambda keyword to difine the fuction\n",
    "   \n",
    "Multiplication = lambda x,y: x * y\n",
    "\n",
    "print(Multiplication(5,5))\n",
    "\n",
    "Regular functions:->Regular functions are defined using the def keyword. They can be more complex than lambda functions, and they can \n",
    "                    have a name, which makes them easier to refer to.\n",
    "                    \n",
    "                   #syntax is diffrent and purpose of using def, lambda function is diffrent.\n",
    "    "
   ]
  },
  {
   "cell_type": "markdown",
   "id": "2c191fc2-4741-4874-862d-32b6108386fc",
   "metadata": {},
   "source": [
    "5. How does the concept of \"scope\" apply to functions in Python? Explain the difference between local\n",
    "scope and global scope."
   ]
  },
  {
   "cell_type": "code",
   "execution_count": 9,
   "id": "22a07470-9c5a-4747-8326-ea98e2b0f422",
   "metadata": {},
   "outputs": [
    {
     "name": "stdout",
     "output_type": "stream",
     "text": [
      "I am local varible\n",
      "I am Global varible\n"
     ]
    }
   ],
   "source": [
    "#Ans:->\n",
    "#Local scope:->\n",
    "             #Local scope is the scope of a variable that is defined within a function. Variables in local scope can only be accessed from within \n",
    "             #the function in which they are defined.\n",
    "             \n",
    "             #Local variables are typically created when the function is called and destroyed when the function execution completes\n",
    "               \n",
    "            \n",
    "#Ex:->\n",
    "def my_func():\n",
    "    \n",
    "    my_var='I am local varible'  #this is local varible accesable only for this function only\n",
    "    print(my_var)\n",
    "my_func()    \n",
    "\n",
    "\n",
    "#Global scope->\n",
    "             #Global scopeis the scope of a variable that is defined outside of any function. Variables in global scope can be accessed from anywhere\n",
    "             #in the program.\n",
    "             \n",
    "             #Global variables can be accessed and modified from anywhere in the code, including inside functions\n",
    "                \n",
    "my_var='I am Global varible'\n",
    "def my_func():    \n",
    "\n",
    "    print(my_var)\n",
    "my_func() \n"
   ]
  },
  {
   "cell_type": "markdown",
   "id": "29396083-3335-4123-b02a-bf3ea29a7271",
   "metadata": {},
   "source": [
    "6. How can you use the \"return\" statement in a Python function to return multiple values?"
   ]
  },
  {
   "cell_type": "code",
   "execution_count": 12,
   "id": "adf3c41a-9908-4bf1-ba93-b7d134684fce",
   "metadata": {},
   "outputs": [
    {
     "name": "stdout",
     "output_type": "stream",
     "text": [
      "(10, 20, 30)\n",
      "[10, 20, 30, 40]\n",
      "{'val1': 45, 'val2': 50}\n"
     ]
    }
   ],
   "source": [
    "#Ans:->\n",
    "       #the return statement is used to exit a function and return a value. The value that is returned can be a single value, or it can be a \n",
    "       #tuple of multiple values.\n",
    "\n",
    "       #To return multiple values from a function, you can simply separate the values with commas in the return statement\n",
    "\n",
    "#Ex:->\n",
    "\n",
    "def data_():\n",
    "    return 10,20,30\n",
    "print(data_())\n",
    "\n",
    "\n",
    "#we can pass values inside list,tuple and dictionary also \n",
    "\n",
    "\n",
    "#List\n",
    "\n",
    "def call_():\n",
    "    \n",
    "    return [10,20,30,40,]\n",
    "print(call_())\n",
    "\n",
    "\n",
    "#dictionary\n",
    "\n",
    "def call_ag():\n",
    "    return {'val1':45,'val2':50}\n",
    "\n",
    "print(call_ag())    "
   ]
  },
  {
   "cell_type": "markdown",
   "id": "30f55aac-934d-4217-8c07-fdfb5ef2e145",
   "metadata": {},
   "source": [
    "7. What is the difference between the \"pass by value\" and \"pass by reference\" concepts when it\n",
    "comes to function arguments in Python?"
   ]
  },
  {
   "cell_type": "code",
   "execution_count": 14,
   "id": "26cf2419-e4d6-4bb1-ae94-4e14fdfad0f7",
   "metadata": {},
   "outputs": [
    {
     "name": "stdout",
     "output_type": "stream",
     "text": [
      "5\n",
      "[1, 2, 3, 4]\n"
     ]
    }
   ],
   "source": [
    "#Ans:->\n",
    "\n",
    "#Pass by value:->\n",
    "#              Pass by valuemeans that the value of the argument is copied to the function's local scope. Any changes made to the value of the argument \n",
    "#              in the function's local scope will not affect the original value of the argument.\n",
    "def my_func(num):\n",
    "    num += 10\n",
    "\n",
    "value = 5\n",
    "my_func(value)\n",
    "print(value)\n",
    "\n",
    "#Pass by reference:->        \n",
    "\n",
    "#             Pass by reference means that the reference to the argument is passed to the function's local scope. Any changes made to the value of \n",
    "#             the argument in the function's local scope will affect the original value of the argument.\n",
    "def my_own(my_list):\n",
    "    my_list.append(4)\n",
    "\n",
    "original_list = [1, 2, 3]\n",
    "my_own(original_list)\n",
    "print(original_list)"
   ]
  },
  {
   "cell_type": "markdown",
   "id": "1b6d2b06-41d2-423f-aac5-af0c29c7e7d5",
   "metadata": {},
   "source": [
    "8. Create a function that can intake integer or decimal value and do following operations:\n",
    "a. Logarithmic function (log x)\n",
    "b. Exponential function (exp(x))\n",
    "c. Power function with base 2 (2\n",
    "x\n",
    ")\n",
    "\n",
    "d. Square root"
   ]
  },
  {
   "cell_type": "code",
   "execution_count": 17,
   "id": "45c487ec-0baf-4b22-b236-893504f6e35f",
   "metadata": {},
   "outputs": [
    {
     "name": "stdout",
     "output_type": "stream",
     "text": [
      "Logarithmic result: 1.252762968495368\n",
      "Exponential result: 33.11545195869231\n",
      "Power result with base 2: 11.313708498984761\n",
      "Square root result: 1.8708286933869707\n"
     ]
    }
   ],
   "source": [
    "#Ans:-> we have to import math for this operations\n",
    "\n",
    "import math\n",
    "\n",
    "def My_answers(value):\n",
    "    \n",
    "    # Logarithmic function (log x)\n",
    "    logarithmic_result = math.log(value)\n",
    "    \n",
    "    \n",
    "\n",
    "    # Exponential function (exp(x))\n",
    "    exponential_result = math.exp(value)\n",
    "    \n",
    "    \n",
    "\n",
    "    # Power function with base 2 (2^x)\n",
    "    power_result = math.pow(2, value)\n",
    "    \n",
    "    \n",
    "\n",
    "    # Square root\n",
    "    square_root_result = math.sqrt(value)\n",
    "    \n",
    "    \n",
    "\n",
    "    # Return the results\n",
    "    return logarithmic_result, exponential_result, power_result, square_root_result\n",
    "\n",
    "value = 3.5\n",
    "log_result, exp_result, power_result, sqrt_result = perform_operations(value)\n",
    "\n",
    "print(f\"Logarithmic result: {log_result}\")\n",
    "print(f\"Exponential result: {exp_result}\")\n",
    "print(f\"Power result with base 2: {power_result}\")\n",
    "print(f\"Square root result: {sqrt_result}\")\n",
    "\n",
    "#This function first imports the math module, which contains the logarithmic, exponential, and power functions. The function then defines a function \n",
    "#called math_operations() that takes an integer or decimal value as input and returns a tuple of four values: the logarithm of the input, the exponential of the input, the power of 2 to the input, and the square root of the input.\n",
    "\n",
    "#The math_operations() function then calls the log10(), exp(), pow(), and sqrt() functions from the math module to calculate the logarithm,\n",
    "#exponential, power, and square root of the input. The function then returns a tuple of the four values.\n"
   ]
  },
  {
   "cell_type": "markdown",
   "id": "f20de4da-1fa9-4b62-89ca-10b859e0e424",
   "metadata": {},
   "source": [
    "9. Create a function that takes a full name as an argument and returns first name and last name."
   ]
  },
  {
   "cell_type": "code",
   "execution_count": 25,
   "id": "743fbf0b-e81a-4676-adcf-3f60c3c294a8",
   "metadata": {},
   "outputs": [
    {
     "name": "stdout",
     "output_type": "stream",
     "text": [
      "First name: Ineuron\n",
      "Last name: datascience\n"
     ]
    }
   ],
   "source": [
    "#Ans:->\n",
    "\n",
    "def full_name(full_name):\n",
    "\n",
    "    first_name = full_name.split(\" \")[0]\n",
    "    last_name = full_name.split(\" \")[-1]\n",
    "\n",
    "    return first_name, last_name\n",
    "\n",
    "\n",
    "full_name = \"Ineuron datascience\"\n",
    "first_name, last_name = get_name(full_name)\n",
    "print(\"First name:\", first_name)\n",
    "print(\"Last name:\", last_name)\n",
    "\n",
    "\n",
    "#This function first defines a function called get_name() that takes a full name as input and returns a tuple of two values: the first name and the last name. The function then uses the split() method to split the full name \n",
    "#into a list of words. The first word in the list is the first name, and the last word in the list is the last name. The function then returns a\n",
    "#tuple of the first name and the last name.\n",
    "\n",
    "#The main() function then defines the variable full_name and calls the get_name() function with the value of full_name as input. The get_name() \n",
    "#function then returns a tuple of two values, which are then printed to the console."
   ]
  },
  {
   "cell_type": "code",
   "execution_count": null,
   "id": "97824550-016c-4f92-a725-14a17863fe43",
   "metadata": {},
   "outputs": [],
   "source": []
  },
  {
   "cell_type": "code",
   "execution_count": null,
   "id": "a5bf922b-c6b4-444a-ab6b-a69943bc1f8b",
   "metadata": {},
   "outputs": [],
   "source": []
  }
 ],
 "metadata": {
  "kernelspec": {
   "display_name": "Python 3 (ipykernel)",
   "language": "python",
   "name": "python3"
  },
  "language_info": {
   "codemirror_mode": {
    "name": "ipython",
    "version": 3
   },
   "file_extension": ".py",
   "mimetype": "text/x-python",
   "name": "python",
   "nbconvert_exporter": "python",
   "pygments_lexer": "ipython3",
   "version": "3.10.6"
  }
 },
 "nbformat": 4,
 "nbformat_minor": 5
}
