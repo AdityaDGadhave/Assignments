{
 "cells": [
  {
   "cell_type": "markdown",
   "id": "f888d611-cc86-42df-af47-63da95828e36",
   "metadata": {},
   "source": [
    "Q.1. What are keywords in python? Using the keyword library, print all the python keywords."
   ]
  },
  {
   "cell_type": "code",
   "execution_count": 2,
   "id": "b62154d5-5972-4725-8fdb-ec263292ebe4",
   "metadata": {},
   "outputs": [
    {
     "name": "stdout",
     "output_type": "stream",
     "text": [
      "['False', 'None', 'True', 'and', 'as', 'assert', 'async', 'await', 'break', 'class', 'continue', 'def', 'del', 'elif', 'else', 'except', 'finally', 'for', 'from', 'global', 'if', 'import', 'in', 'is', 'lambda', 'nonlocal', 'not', 'or', 'pass', 'raise', 'return', 'try', 'while', 'with', 'yield']\n"
     ]
    }
   ],
   "source": [
    "#Ans:-> In python keyword are reserved word used for some special perpose.\n",
    "#       we cant use keyword as varible name,class name,fuction\n",
    "#       in python 35 reserved or keywords are present\n",
    "import keyword\n",
    "keywords_list=keyword.kwlist\n",
    "print(keywords_list)\n"
   ]
  },
  {
   "cell_type": "markdown",
   "id": "c7d9c336-68cc-4687-b449-2519edf15159",
   "metadata": {},
   "source": [
    "Q.2. What are the rules to create variables in python?"
   ]
  },
  {
   "cell_type": "code",
   "execution_count": 4,
   "id": "72f30669-64c0-4ae7-8657-bec3f8fded24",
   "metadata": {},
   "outputs": [
    {
     "name": "stdout",
     "output_type": "stream",
     "text": [
      "Full stack Data Science\n"
     ]
    }
   ],
   "source": [
    "#Ans:-> for declearing varible name python have some rules as follow.\n",
    "#       - Variable names cannot start with a number.\n",
    "#       - Variable names can only contain alpha-numeric characters and underscores. \n",
    "#       - Variable names must start with a letter or the underscore character.\n",
    "#       - Reserved words (keywords) cannot be used as variable names.\n",
    "#       - Variable names are case-sensitive  \n",
    "    \n",
    "    #Wrong ways\n",
    "#ex-> True=adityaineuron      # this is incorrecfe way to define varible name because True is a keyword.\n",
    "     #print(True)   \n",
    "    \n",
    "    #Correct way\n",
    "    \n",
    "My_Course='Full stack Data Science'\n",
    "print(My_Course)"
   ]
  },
  {
   "cell_type": "markdown",
   "id": "139aa09d-762f-402a-ace6-f397e5ff39ee",
   "metadata": {},
   "source": [
    "Q.3.What are the standards and conventions followed for the nomenclature of variables in\n",
    "python to improve code readability and maintainability?"
   ]
  },
  {
   "cell_type": "code",
   "execution_count": 5,
   "id": "8305dfc1-2d4e-41fb-bfc1-227072997dbf",
   "metadata": {},
   "outputs": [
    {
     "name": "stdout",
     "output_type": "stream",
     "text": [
      "[90, 95, 96, 98, 99, 97]\n"
     ]
    }
   ],
   "source": [
    "#Ans:-> - Use consistent naming conventions. Once you start using a particular naming convention, stick with it throughout your code. \n",
    "#         This will make the code more consistent and easier to read.\n",
    "    \n",
    "#       - Avoid single-letter names. Single-letter names can be confusing and are not descriptive. For example, a variable named x could \n",
    "#         refer to anything.\n",
    "             \n",
    "#       - Use lowercase letters. Variable names should be in lowercase letters, with words separated by underscores. \n",
    "#         This makes the code more readable and easier to understand.\n",
    "        \n",
    "#       - Variable names should not be excessively long or cryptic. They should be concise but still meaningful.\n",
    "    \n",
    "#       - Avoid using single underscores at the beginning or end of variable names, as they are typically reserved for \n",
    " #        special meanings in Python.\n",
    "\n",
    "#Ex:->\n",
    "students_marks=[90,95,96,98,99,97]\n",
    "print(students_marks)"
   ]
  },
  {
   "cell_type": "markdown",
   "id": "ddee4da1-0d23-4b6a-92f2-33a1689b886b",
   "metadata": {},
   "source": [
    "Q.4. What will happen if a keyword is used as a variable name?"
   ]
  },
  {
   "cell_type": "code",
   "execution_count": 9,
   "id": "b8631bfd-512b-4201-ae2c-0306e94fe6e7",
   "metadata": {},
   "outputs": [
    {
     "name": "stdout",
     "output_type": "stream",
     "text": [
      "Data Science\n"
     ]
    }
   ],
   "source": [
    "#Ans:-> If a keyword is used as a variable name, the Python interpreter will raise a SyntaxError exception. This is because  keywords have a \n",
    "#       special meaning to the interpreter, and using them as variable names can cause confusion and errors.\n",
    "    \n",
    "#       If incase that code not showing error but there is huge possiblitity that code should throw runtime arror or other error in future.\n",
    "#        thats why dont use keywords as a varible name.\n",
    "        \n",
    "#Ex:-\n",
    "#True='Data Science'\n",
    "#print(True)\n",
    "\n",
    "#If any one want to use keyword as a varible name use underscore before or after the keyword\n",
    "\n",
    "#EX:\n",
    "\n",
    "True_='Data Science'  \n",
    "print(True_)"
   ]
  },
  {
   "cell_type": "markdown",
   "id": "252fea6f-1e8d-4d23-84ea-b8560cb5a271",
   "metadata": {},
   "source": [
    "Q.5. For what purpose def keyword is used?"
   ]
  },
  {
   "cell_type": "code",
   "execution_count": 10,
   "id": "e51668df-be1f-444d-bfc7-792ccda68122",
   "metadata": {},
   "outputs": [
    {
     "name": "stdout",
     "output_type": "stream",
     "text": [
      "Hello Data Science!\n"
     ]
    }
   ],
   "source": [
    "#Ans:->'def' is keyword or reserve word in python used for define the function.\n",
    "#       which are essential for writing reusable and efficient code.\n",
    "    \n",
    "#    Organization: Functions can help to organize code by grouping related code together. This makes the code easier to read and understand.\n",
    "    \n",
    "#    Reusability: Functions can be reused throughout a program. This saves time and effort, and it also makes the code more maintainable.\n",
    "    \n",
    "#    Efficiency: Functions can be used to encapsulate complex logic. This makes the code more efficient, because it can be executed more\n",
    "#                quickly.\n",
    "\n",
    "def greet(course):\n",
    "    return f\"Hello {course}!\"\n",
    "\n",
    "print(greet(\"Data Science\"))"
   ]
  },
  {
   "cell_type": "markdown",
   "id": "a1cac095-97cd-4760-a010-a6365bc9bde5",
   "metadata": {},
   "source": [
    "Q.6. What is the operation of this special character ‘\\’?"
   ]
  },
  {
   "cell_type": "code",
   "execution_count": 16,
   "id": "889ba123-bb40-4afe-b5a8-1ad6bd0e13a5",
   "metadata": {},
   "outputs": [
    {
     "name": "stdout",
     "output_type": "stream",
     "text": [
      "Ineuron is best platform for learning         skills and geting job\n",
      "we can use.\n",
      "This is a tab: \tExample\n",
      "b'This is a byte string with AB'\n"
     ]
    }
   ],
   "source": [
    "#Ans:-> '\\' is used for many purpose in python as follow.\n",
    "\n",
    "#      Continue lines: If you want to continue a line in a string, you can use the backslash as a line continuation character.\n",
    "#      This allows you to write long strings without having to break them up into multiple lines.\n",
    "        \n",
    "#Ex:->\n",
    "\n",
    "my_str='Ineuron is best platform for learning \\\n",
    "        skills and geting job'\n",
    "print(my_str)\n",
    "    \n",
    "    \n",
    "#2.#Escape special characters: The backslash can be used to escape special characters, such as newlines, tabs, and quotes.  this allows you\n",
    "#                           to include these characters in strings without them being interpreted as special characters.\n",
    "\n",
    "#Ex:->\n",
    "print(\"we can use.\\nThis is a tab: \\tExample\")\n",
    "\n",
    "\n",
    "\n",
    "#3.Byte strings: The backslash is also used in byte strings to escape special characters or represent byte values\n",
    "byte_string = b\"This is a byte string with \\x41\\x42\"\n",
    "print(byte_string)\n"
   ]
  },
  {
   "cell_type": "markdown",
   "id": "dff2d503-1c4b-46c0-a222-9c18e32d4be6",
   "metadata": {},
   "source": [
    "Q.7. Give an example of the following conditions:\n",
    "(i) Homogeneous list\n",
    "(ii) Heterogeneous set\n",
    "(iii) Homogeneous tuple"
   ]
  },
  {
   "cell_type": "code",
   "execution_count": 21,
   "id": "b46473c0-af05-4046-bc23-98193aa1150f",
   "metadata": {},
   "outputs": [
    {
     "name": "stdout",
     "output_type": "stream",
     "text": [
      "This list contain only integers [4, 5, 8, 7]\n",
      "This is heterogeneous set {True, 'Data Science', 4.5, 45}\n",
      "This is homogeneous tuple (5, 7, 8, 9)\n"
     ]
    }
   ],
   "source": [
    "#Ans:-> \n",
    "#i) Homogeneous list: list which contain same elements of same datatype that list called as homogeneous list. \n",
    "#Ex:-> \n",
    "homo_list=[4,5,8,7]                               #this list is homogeneous\n",
    "print('This list contain only integers', homo_list)\n",
    "\n",
    "#(ii) Heterogeneous set:- Set which contain elements of diffrent datatypes called heterogeneous set.\n",
    "#EX:->\n",
    "hete_set={'Data Science',45,4.5,True} #this set contain str,int,float,bool datatypes\n",
    "print('This is heterogeneous set',hete_set)\n",
    "\n",
    "#(iii) Homogeneous tuple:-tuple which contain same elements of same datatype that list called as homogeneous tuple.\n",
    "#EX\n",
    "homo_tuple=(5,7,8,9)\n",
    "print('This is homogeneous tuple',homo_tuple)"
   ]
  },
  {
   "cell_type": "markdown",
   "id": "9cd555d8-d3fb-425e-9170-350c1f07b63c",
   "metadata": {},
   "source": [
    "Q.8. Explain the mutable and immutable data types with proper explanation & examples."
   ]
  },
  {
   "cell_type": "code",
   "execution_count": 24,
   "id": "c3cfc70c-4695-4249-8a96-a657186af10b",
   "metadata": {},
   "outputs": [
    {
     "name": "stdout",
     "output_type": "stream",
     "text": [
      "140197830619520\n",
      "[1, 2, 3, 4]\n",
      "140197830619520\n"
     ]
    }
   ],
   "source": [
    "#Ans :->\n",
    "\n",
    "#Mutable data types:-> Mutable means we can change that datatype or we can remove or add value after creating also called\n",
    "                      #mutable data types.\n",
    "   # Ex:-> list,set,Dictionary\n",
    "\n",
    "# This change happen with same memory location thats why its mutable.. \n",
    "list_=[1,2,3]      \n",
    "print(id(list_))\n",
    "list_.append(4)\n",
    "print(list_)\n",
    "print(id(list_))      \n",
    "\n",
    "#immutable data types :->immutable  means we cant change that datatype or we cant remove or add value after creating called\n",
    "                       #immutable data types. \n",
    "#EX:-> string, tuple\n",
    "\n",
    "# when we do some operation with str or tuple that chage store in diffrent memory location means new objets get created there.\n",
    " #if we change somthing program throw error"
   ]
  },
  {
   "cell_type": "markdown",
   "id": "3c66657f-3c2d-4e88-a662-b4409f5ed8c1",
   "metadata": {},
   "source": [
    "Q.9. Write a code to create the given structure using only for loop."
   ]
  },
  {
   "cell_type": "code",
   "execution_count": 26,
   "id": "76c8495b-eb6e-4084-9fa2-1f7e64ae5114",
   "metadata": {},
   "outputs": [
    {
     "name": "stdout",
     "output_type": "stream",
     "text": [
      "    *\n",
      "   ***\n",
      "  *****\n",
      " *******\n",
      "*********\n"
     ]
    }
   ],
   "source": [
    "#Ans:-> code for this pattern as follow\n",
    "for i in range(5):                  # this for loop rows \n",
    "   for j in range(5-i-1):          \n",
    "\n",
    "       print(\" \", end='')               #This is for loop coloumns\n",
    "        \n",
    "   for k in range((2*i+1)):               # this for loop for printing stars\n",
    "       print('*',end='')    \n",
    "   print()"
   ]
  },
  {
   "cell_type": "markdown",
   "id": "dc7cee61-526d-495a-a839-b27976b8a288",
   "metadata": {},
   "source": [
    "Q.10. Write a code to create the given structure using while loop.\n"
   ]
  },
  {
   "cell_type": "code",
   "execution_count": 34,
   "id": "bc07f534-8a0d-48cf-af89-430816d2bf18",
   "metadata": {},
   "outputs": [
    {
     "name": "stdout",
     "output_type": "stream",
     "text": [
      "|||||||||\n",
      " |||||||\n",
      "  |||||\n",
      "   |||\n",
      "    |\n"
     ]
    }
   ],
   "source": [
    "#Ans:-> \n",
    "num_rows = 5\n",
    "row = num_rows\n",
    "\n",
    "while row >= 1:\n",
    "    spaces = num_rows - row\n",
    "    vertical_bars = 2 * row - 1\n",
    "    \n",
    "    # Print spaces\n",
    "    spaces_count = 0\n",
    "    while spaces_count < spaces:\n",
    "        print(\" \", end=\"\")\n",
    "        spaces_count += 1\n",
    "\n",
    "    # Print vertical bars\n",
    "    vertical_bars_count = 0\n",
    "    while vertical_bars_count < vertical_bars:\n",
    "        print(\"|\", end=\"\")\n",
    "        vertical_bars_count += 1\n",
    "\n",
    "    print()  # Move to the next line\n",
    "    row -= 1\n"
   ]
  },
  {
   "cell_type": "code",
   "execution_count": null,
   "id": "a5908b8a-62d2-4900-bbb5-5dec99af6ce0",
   "metadata": {},
   "outputs": [],
   "source": []
  }
 ],
 "metadata": {
  "kernelspec": {
   "display_name": "Python 3 (ipykernel)",
   "language": "python",
   "name": "python3"
  },
  "language_info": {
   "codemirror_mode": {
    "name": "ipython",
    "version": 3
   },
   "file_extension": ".py",
   "mimetype": "text/x-python",
   "name": "python",
   "nbconvert_exporter": "python",
   "pygments_lexer": "ipython3",
   "version": "3.10.6"
  }
 },
 "nbformat": 4,
 "nbformat_minor": 5
}
