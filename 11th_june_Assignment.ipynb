{
 "cells": [
  {
   "cell_type": "markdown",
   "id": "db6d747d-17d0-4153-988b-1b38dd02f101",
   "metadata": {},
   "source": [
    "1. What is a lambda function in Python, and how does it differ from a regular function?"
   ]
  },
  {
   "cell_type": "code",
   "execution_count": 1,
   "id": "b6b8d835-fc59-4d2c-a1bc-829260b3641a",
   "metadata": {},
   "outputs": [
    {
     "name": "stdout",
     "output_type": "stream",
     "text": [
      "10\n"
     ]
    }
   ],
   "source": [
    "#Ans:->\n",
    "      #A lambda function in Python is a small, anonymous function. It is similar to a regular function, but it is defined using the lambda \n",
    "       #keyword instead of the def keyword. Lambda functions can take any number of arguments, but they can only have one expression.\n",
    "        \n",
    "calculation= lambda x: x * 2\n",
    "\n",
    "print(calculation(5))\n",
    "\n",
    "#The main difference between a lambda function and a regular function is that lambda functions are anonymous. This means that they do not have \n",
    "#a name, and they cannot be called directly. Instead, they must be passed as arguments to other functions, or they can be assigned to variables.\n",
    "\n",
    "#Here is some advantages of lambda function:->\n",
    "\n",
    "#They are concise and easy to read.\n",
    "\n",
    "#They can be used to simplify complex code.\n",
    "\n",
    "#They can be passed as arguments to other functions.\n",
    "\n",
    "#They can be assigned to variables."
   ]
  },
  {
   "cell_type": "markdown",
   "id": "3023acad-6825-48d4-8019-2acab7e5fec2",
   "metadata": {},
   "source": [
    "2. Can a lambda function in Python have multiple arguments? If yes, how can you define and use\n",
    "them?"
   ]
  },
  {
   "cell_type": "code",
   "execution_count": 2,
   "id": "0aff26ea-2e57-4834-940e-891093966c37",
   "metadata": {},
   "outputs": [
    {
     "name": "stdout",
     "output_type": "stream",
     "text": [
      "11\n"
     ]
    }
   ],
   "source": [
    "#Ans:->\n",
    "    #  Yes, a lambda function in Python can have multiple arguments.\n",
    "\n",
    "      #to pass multiple arguments simply seprate that argument with quamma As follow\n",
    "\n",
    "\n",
    "#Ex:-> lambda arg1,arg2: expression\n",
    "\n",
    "\n",
    "#Where arg1, arg2, etc. are the arguments to the lambda function, and expression is the expression that is evaluated and returned by the lambda \n",
    "#function.\n",
    "\n",
    "\n",
    "calculate_ = lambda x, y,z: x + y * z\n",
    "\n",
    "print(calculate_ (1,2,5))"
   ]
  },
  {
   "cell_type": "markdown",
   "id": "2e7136b1-0624-4a5b-a928-bf8e6a9fc008",
   "metadata": {},
   "source": [
    "3. How are lambda functions typically used in Python? Provide an example use case."
   ]
  },
  {
   "cell_type": "code",
   "execution_count": 6,
   "id": "6323c6b2-ad0f-4abe-9348-93ed8c393fad",
   "metadata": {},
   "outputs": [
    {
     "name": "stdout",
     "output_type": "stream",
     "text": [
      "2\n",
      "4\n",
      "6\n",
      "8\n",
      "10\n"
     ]
    }
   ],
   "source": [
    "#Ans:->  \n",
    "       #Typically lambda function used in Python in conjunction with other functions, such as the map() and filter() functions.\n",
    "    \n",
    "      # The map() function takes a function and an iterable as input, and applies the function to each element in the iterable. \n",
    "        \n",
    "       #The map() function then returns a new iterable containing the results of applying the function to each element.\n",
    "    \n",
    " #map function is higher order function means map take another function as argument or input .   \n",
    "\n",
    "#Ex:->\n",
    "    \n",
    "inputs_ = [1, 2, 3, 4, 5]\n",
    "\n",
    "doubled_numbers = map(lambda x: x * 2, inputs_)\n",
    "\n",
    "for i in  doubled_numbers:\n",
    "    print(i)\n",
    "    \n",
    "    \n",
    "#lambda fuction can be used with filter()and reduce(). both are higher order functions    "
   ]
  },
  {
   "cell_type": "markdown",
   "id": "d4c754c8-e7e5-4ea5-b972-9f9a13fe2b1b",
   "metadata": {},
   "source": [
    "4. What are the advantages and limitations of lambda functions compared to regular functions in\n",
    "Python?"
   ]
  },
  {
   "cell_type": "code",
   "execution_count": null,
   "id": "a34adc58-96f7-4934-9ec4-7f5dab83035c",
   "metadata": {},
   "outputs": [],
   "source": [
    "Ans:->\n",
    "      Advantages of lambda functions:\n",
    "\n",
    "Conciseness: Lambda functions are very concise, which can make your code more readable and easier to understand.\n",
    "\n",
    "Flexibility: Lambda functions can be passed as arguments to other functions, or they can be assigned to variables. This makes them very flexible \n",
    "and can be used in a variety of situations.\n",
    "\n",
    "Efficiency: Lambda functions are often more efficient than regular functions, as they do not need to be stored in memory.\n",
    "\n",
    "\n",
    "Limitations of lambda functions:\n",
    "\n",
    "Single expression: Lambda functions can only have one expression. This means that they cannot be used to define functions that are more complex than\n",
    "a single expression.\n",
    "\n",
    "No name: Lambda functions do not have a name. This can make it difficult to debug your code, as you cannot easily refer to the lambda function by \n",
    "name.\n",
    "\n",
    "Not reusable: Lambda functions are not reusable, as they are defined inline. This means that you cannot use the same lambda function in multiple\n",
    "places in your code.\n",
    "\n",
    "\n",
    "#lambda fuction is not effectively work in critical code "
   ]
  },
  {
   "cell_type": "markdown",
   "id": "dd8e79d5-6d2b-4762-9f86-d0efff9c9a45",
   "metadata": {},
   "source": [
    "5. Are lambda functions in Python able to access variables defined outside of their own scope?\n",
    "Explain with an example."
   ]
  },
  {
   "cell_type": "code",
   "execution_count": 2,
   "id": "e7a6d2ff-6be6-40c8-8051-b93041c71039",
   "metadata": {},
   "outputs": [
    {
     "name": "stdout",
     "output_type": "stream",
     "text": [
      "25\n"
     ]
    }
   ],
   "source": [
    "#Ans:->\n",
    "#      Yes, lambda functions in Python can access variables defined outside of their own scope. This is done through a process \n",
    " #     called variable capture. \n",
    "        \n",
    " #     in Python, a lambda function is an anonymous function that can be defined inline. It can access variables from its surrounding scope,\n",
    " #     including variables defined outside the lambda function itself.\n",
    "        \n",
    "def outer_function():\n",
    "    x = 5\n",
    "\n",
    "    square = lambda n: n * n\n",
    "\n",
    "    return square(x)\n",
    "\n",
    "print(outer_function())             #here we can access oyside the scope\n",
    "\n",
    "\n",
    "#The captured variables are captured by reference, not by value. This means that changes to the captured variables will be reflected\n",
    " #in the lambda function.\n",
    "    \n",
    "#The captured variables are only available to the lambda function. They cannot be accessed from other functions or from the main body of \n",
    "#the code.\n"
   ]
  },
  {
   "cell_type": "markdown",
   "id": "cb44f634-ce52-4f21-8773-8ee0c4885d48",
   "metadata": {},
   "source": [
    "6. Write a lambda function to calculate the square of a given number."
   ]
  },
  {
   "cell_type": "code",
   "execution_count": 9,
   "id": "9230e8fe-5ba0-4fe7-879a-d02c9c3f3a06",
   "metadata": {},
   "outputs": [
    {
     "name": "stdout",
     "output_type": "stream",
     "text": [
      "16\n"
     ]
    }
   ],
   "source": [
    "#Ans:->\n",
    "    #here is a lambda function to calculate the square of a given number\n",
    "    \n",
    "cal_square=lambda x: x**2      # x is only argument here\n",
    "                            # ** we use for define square in python \n",
    "print(cal_square(4))"
   ]
  },
  {
   "cell_type": "markdown",
   "id": "fc217156-7991-4b18-a828-95969aaae3e9",
   "metadata": {},
   "source": [
    "7. Create a lambda function to find the maximum value in a list of integers."
   ]
  },
  {
   "cell_type": "code",
   "execution_count": 11,
   "id": "e8c86cba-0a12-4183-befa-5c2b2e499e48",
   "metadata": {},
   "outputs": [
    {
     "name": "stdout",
     "output_type": "stream",
     "text": [
      "5\n"
     ]
    }
   ],
   "source": [
    "#Ans-> \n",
    "     # here is a lambda function to find the maximum value in a list of integers.\n",
    "    \n",
    "max_value = lambda numbers: max(numbers)        \n",
    "\n",
    "print(max_value([1, 2, 3, 4, 5]))      # for passing list we can create new seprate varible insted of this."
   ]
  },
  {
   "cell_type": "markdown",
   "id": "08cf042c-e54f-48ac-9a64-18be8d6610c2",
   "metadata": {},
   "source": [
    "8. Implement a lambda function to filter out all the even numbers from a list of integers."
   ]
  },
  {
   "cell_type": "code",
   "execution_count": 6,
   "id": "6c5cee4d-3605-400b-8d9e-55cda7e88207",
   "metadata": {},
   "outputs": [
    {
     "name": "stdout",
     "output_type": "stream",
     "text": [
      "[2, 4, 6, 8, 10]\n"
     ]
    }
   ],
   "source": [
    "#Ans:->\n",
    "#      here is the code to implement a lambda function to filter out all the even numbers from a list of integers,\n",
    "numbers = [1, 2, 3, 4, 5, 6, 7, 8, 9, 10]\n",
    "\n",
    "\n",
    "filtered_numbers = list(filter(lambda x: x % 2 == 0, numbers))   # here is lambda fuction for filter even numbers\n",
    "\n",
    "print(filtered_numbers)  # Output: [2, 4, 6, 8, 10]\n",
    "\n",
    "#The filter() function takes a function and a list as input and returns a new list that contains only the elements of the original \n",
    "#list that the function returns True for. In this case, the function is the lambda function that checks if a number is odd. The list \n",
    "#of integers is then filtered to remove all the even numbers.\n"
   ]
  },
  {
   "cell_type": "markdown",
   "id": "81b4676f-cfd9-4799-8dd4-aa39260f9776",
   "metadata": {},
   "source": [
    "9. Write a lambda function to sort a list of strings in ascending order based on the length of each\n",
    "string."
   ]
  },
  {
   "cell_type": "code",
   "execution_count": 9,
   "id": "19b36578-05c8-4f79-8837-04231c9e7cc1",
   "metadata": {},
   "outputs": [
    {
     "name": "stdout",
     "output_type": "stream",
     "text": [
      "['list', 'Aditya', 'Ineuron', 'krishsir', 'Data Science', 'Shudhanshusir ']\n"
     ]
    }
   ],
   "source": [
    "#Ans:->\n",
    " #    here is the code to write a lambda function to sort a list of strings in ascending order based on the length of each string:\n",
    "    \n",
    "    \n",
    "def sort_strings_by_length(strings):\n",
    " \n",
    "\n",
    "  sorted_strings = sorted(strings, key=lambda string: len(string))    # sorted fuction soet values accorfing to lenght in acensing order\n",
    "\n",
    "  return sorted_strings\n",
    "\n",
    "\n",
    "\n",
    "strings = [\"Ineuron\", \"Data Science\", \"krishsir\", \"Aditya\", \"Shudhanshusir \", \"list\"]\n",
    "sorted_strings = sort_strings_by_length(strings)\n",
    "print(sorted_strings)    \n",
    "    "
   ]
  },
  {
   "cell_type": "markdown",
   "id": "621710f0-30e3-4d53-9a2d-f023a88e936e",
   "metadata": {},
   "source": [
    "10. Create a lambda function that takes two lists as input and returns a new list containing the\n",
    "common elements between the two lists."
   ]
  },
  {
   "cell_type": "code",
   "execution_count": 11,
   "id": "88bdf7d6-3199-4e64-82ec-82879c6b4ba7",
   "metadata": {},
   "outputs": [
    {
     "name": "stdout",
     "output_type": "stream",
     "text": [
      "[3, 4, 5]\n"
     ]
    }
   ],
   "source": [
    "#Ans:-> \n",
    "#       here is the code to create a lambda function that takes two lists as input and returns a new list containing the common \n",
    " #      elements between the two lists\n",
    "        \n",
    "        \n",
    "list1 = [3, 7, 8, 4, 5]\n",
    "list2 = [4, 5, 6, 3, 10]\n",
    "\n",
    "\n",
    "common_elements = lambda a, b: list(filter(lambda x: x in b, a))   #here for loop check common value in both list\n",
    "\n",
    "result = common_elements(list1, list2)                              #common values stored in result\n",
    "print(result)  # Output: [4, 5]"
   ]
  },
  {
   "cell_type": "markdown",
   "id": "3f3ee327-5f0a-432a-b921-651d67b3c7e4",
   "metadata": {},
   "source": [
    "11. Write a recursive function to calculate the factorial of a given positive integer."
   ]
  },
  {
   "cell_type": "code",
   "execution_count": 12,
   "id": "de453ac3-4c7e-41e1-ba58-cba7bae2bbd5",
   "metadata": {},
   "outputs": [
    {
     "name": "stdout",
     "output_type": "stream",
     "text": [
      "720\n"
     ]
    }
   ],
   "source": [
    "#Ans:->\n",
    "        #here is the code to write a recursive function to calculate the factorial of a given positive integer\n",
    "    \n",
    "def factorial(n):\n",
    "    if n == 0:\n",
    "        return 1                       # here return 1 because factorial of 0 is 1\n",
    "    else:\n",
    "        return n * factorial(n - 1)    # here fuction calling itself by own called recursion \n",
    "\n",
    "\n",
    "result = factorial(6)\n",
    "print(result)     "
   ]
  },
  {
   "cell_type": "markdown",
   "id": "cfdeeaf9-088f-45f9-8713-bb276810f436",
   "metadata": {},
   "source": [
    "12. Implement a recursive function to compute the nth Fibonacci number."
   ]
  },
  {
   "cell_type": "code",
   "execution_count": 14,
   "id": "cc90d70c-6303-4cb9-b91a-034a3f9e46fe",
   "metadata": {},
   "outputs": [
    {
     "name": "stdout",
     "output_type": "stream",
     "text": [
      "8\n"
     ]
    }
   ],
   "source": [
    "#Ans:->\n",
    "#       here is the code to implement a recursive function to compute the nth Fibonacci number\n",
    "\n",
    "def fibonacci(n):\n",
    "    if n <= 1:\n",
    "        return n\n",
    "    else:\n",
    "        return fibonacci(n - 1) + fibonacci(n - 2)\n",
    "\n",
    "\n",
    "result = fibonacci(6)\n",
    "print(result)  \n",
    "\n",
    "#This code first defines a function called fibonacci(). This function takes an integer as input and returns the nth Fibonacci number. \n",
    "\n",
    "#The function works by using recursion. Recursion is a technique where a function calls itself to solve a problem. In this case, the \n",
    "\n",
    "#fibonacci() function calls itself to calculate the (n-1)th and (n-2)th Fibonacci numbers. The first two Fibonacci numbers are 0 and 1,\n",
    "\n",
    "#so the base cases of the recursion are when the input integer is 0 or 1. The recursive case is when the input integer is greater than 1.\n",
    "\n",
    "#In this case, the fibonacci() function adds the (n-1)th and (n-2)th Fibonacci numbers to get the nth Fibonacci number.\n",
    "\n",
    "#The main function of the code then defines an integer and calls the fibonacci() function to calculate the nth Fibonacci number.\n",
    "\n",
    "#The nth Fibonacci number for 5 is 5, so the print() statement will print the value of 5 to the console\n"
   ]
  },
  {
   "cell_type": "markdown",
   "id": "ce6d24d9-d5e3-4609-b36e-129817436bc1",
   "metadata": {},
   "source": [
    "13. Create a recursive function to find the sum of all the elements in a given list."
   ]
  },
  {
   "cell_type": "code",
   "execution_count": 17,
   "id": "34438ce6-8198-4d98-b7d8-3e0c33202a56",
   "metadata": {},
   "outputs": [
    {
     "name": "stdout",
     "output_type": "stream",
     "text": [
      "22\n"
     ]
    }
   ],
   "source": [
    "#Ans:-> \n",
    "   #   here is the code to create a recursive function to find the sum of all the elements in a given list:\n",
    "        \n",
    "#This code first defines a function called sum_list(). This function takes a list of numbers as input and returns the sum of all \n",
    "\n",
    "#the elements in the list. The function works by using recursion.      \n",
    "\n",
    "def sum_list(list_of_numbers):\n",
    "  \n",
    "\n",
    "  if len(list_of_numbers) == 0:\n",
    "    return 0\n",
    "  else:\n",
    "    return list_of_numbers[0] + sum_list(list_of_numbers[1:]) # here every element added for calculate sum of all element\n",
    "\n",
    "\n",
    "\n",
    "list_of_numbers = [1, 2, 10, 4, 5]\n",
    "print(sum_list(list_of_numbers))        \n",
    "\n",
    "# Recursion is a technique where a function calls itself to solve a problem. In this case, the sum_list() function calls itself to\n",
    "\n",
    "#calculate the sum of the list minus the first element. The sum of an empty list is 0, so the base case of the recursion is when the\n",
    "\n",
    "#input list is empty. The recursive case is when the input list is not empty. In this case, the sum_list() function adds the first\n",
    "\n",
    "#element of the list to the sum of the list minus the first element\n"
   ]
  },
  {
   "cell_type": "markdown",
   "id": "dc1834e2-c0b1-41b9-8216-f5b5162900f3",
   "metadata": {},
   "source": [
    "14. Write a recursive function to determine whether a given string is a palindrome."
   ]
  },
  {
   "cell_type": "code",
   "execution_count": 21,
   "id": "49fc72ea-14df-4be9-879d-e4f97b6c4c5c",
   "metadata": {},
   "outputs": [
    {
     "name": "stdout",
     "output_type": "stream",
     "text": [
      "given string is palindrom\n"
     ]
    }
   ],
   "source": [
    "#Ans:-> \n",
    " #      here is the code to write a recursive function to determine whether a given string is a palindrome\n",
    "\n",
    "def is_palindrome(string):\n",
    "  \n",
    "\n",
    "  if len(string) <= 1:\n",
    "    return \"Given string is palindrom\"\n",
    "  else:\n",
    "    return string[0] == string[-1] and is_palindrome(string[1:-1])\n",
    "\n",
    "\n",
    "\n",
    "string = \"racecar\"\n",
    "\n",
    "print(is_palindrome(string))    \n",
    "\n",
    "#This code first defines a function called is_palindrome(). This function takes a string as input and returns True if the string is a \n",
    "\n",
    "#palindrome and False otherwise. The function works by using recursion. Recursion is a technique where a function calls itself to solve \n",
    "\n",
    "#a problem. In this case, the is_palindrome() function calls itself to check if the first and last characters of the string are the same \n",
    "\n",
    "#and then checks if the rest of the string is a palindrome.\n"
   ]
  },
  {
   "cell_type": "markdown",
   "id": "59e60e9e-a758-48b8-a10e-d5a241245ca9",
   "metadata": {},
   "source": [
    "15. Implement a recursive function to find the greatest common divisor (GCD) of two positive integers."
   ]
  },
  {
   "cell_type": "code",
   "execution_count": 25,
   "id": "698ce063-c609-4bf5-a996-93fc80bd9b0d",
   "metadata": {},
   "outputs": [
    {
     "name": "stdout",
     "output_type": "stream",
     "text": [
      "6\n"
     ]
    }
   ],
   "source": [
    "#Ans:->\n",
    "      #here is the code to implement a recursive function to find the greatest common divisor (GCD) of two positive integers\n",
    "    \n",
    "    \n",
    "    \n",
    "def gcd(a, b):\n",
    "\n",
    "  if b == 0:\n",
    "    return a\n",
    "  else:\n",
    "    return gcd(b, a % b)\n",
    "\n",
    "\n",
    "\n",
    "a = 12\n",
    "b = 18\n",
    "print(gcd(a, b))\n",
    "\n",
    "\n",
    "\n",
    "#This code first defines a function called gcd(). This function takes two positive integers as input and returns the greatest common \n",
    "\n",
    "#divisor of the two integers. The function works by using recursion\n"
   ]
  },
  {
   "cell_type": "code",
   "execution_count": null,
   "id": "711d4160-5dbd-4ea8-8e66-a18936c05e72",
   "metadata": {},
   "outputs": [],
   "source": []
  }
 ],
 "metadata": {
  "kernelspec": {
   "display_name": "Python 3 (ipykernel)",
   "language": "python",
   "name": "python3"
  },
  "language_info": {
   "codemirror_mode": {
    "name": "ipython",
    "version": 3
   },
   "file_extension": ".py",
   "mimetype": "text/x-python",
   "name": "python",
   "nbconvert_exporter": "python",
   "pygments_lexer": "ipython3",
   "version": "3.10.6"
  }
 },
 "nbformat": 4,
 "nbformat_minor": 5
}
