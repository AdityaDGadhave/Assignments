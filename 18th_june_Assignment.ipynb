{
 "cells": [
  {
   "cell_type": "markdown",
   "id": "b4b1d4da-b8f3-49ba-b615-a70d6cf043e9",
   "metadata": {},
   "source": [
    "1. What is the role of the 'else' block in a try-except statement? Provide an example\n",
    "scenario where it would be useful."
   ]
  },
  {
   "cell_type": "code",
   "execution_count": 3,
   "id": "c7b56c82-a8b3-4e73-a77b-bb24f9d06821",
   "metadata": {},
   "outputs": [
    {
     "name": "stdin",
     "output_type": "stream",
     "text": [
      "Enter a number:  55\n"
     ]
    },
    {
     "name": "stdout",
     "output_type": "stream",
     "text": [
      "The number you entered is: 55\n"
     ]
    }
   ],
   "source": [
    "#Ans:->\n",
    "     # The else block in a try-except statement is executed if and only if the try block does not raise an exception. \n",
    "      #This means that the else block will only be executed if the code in the try block runs successfully\n",
    "        \n",
    "        \n",
    "#Mostly else block used in file handling case        \n",
    "try:\n",
    "  x = int(input(\"Enter a number: \"))\n",
    "except ValueError:\n",
    "  print(\"That was not a valid number.\")\n",
    "else:\n",
    "  print(\"The number you entered is:\", x)  \n",
    "\n",
    "# else block execute only then program run without error\n",
    "\n",
    "#In this example, the try block will try to convert the user's input to an integer. If the input is not a valid number, the ValueError\n",
    "\n",
    "#exception will be raised and the except block will be executed. However, if the input is a valid number, the try block will run \n",
    "\n",
    "#successfully and the else block will be executed.\n"
   ]
  },
  {
   "cell_type": "markdown",
   "id": "73682e8f-4ea6-4863-a744-57c7259606c1",
   "metadata": {},
   "source": [
    "2. Can a try-except block be nested inside another try-except block? Explain with an\n",
    "example."
   ]
  },
  {
   "cell_type": "code",
   "execution_count": 5,
   "id": "dbe449be-0859-4c7f-b514-fa64e2ea360c",
   "metadata": {},
   "outputs": [
    {
     "name": "stdin",
     "output_type": "stream",
     "text": [
      "Enter a number:  5\n"
     ]
    },
    {
     "name": "stdout",
     "output_type": "stream",
     "text": [
      "5 divided by 1.0 is 5.0\n"
     ]
    }
   ],
   "source": [
    "#Ans:->\n",
    "#      Yes, a try-except block can be nested inside another try-except block. This is called nested try-except blocks. Nested try-except \n",
    "#      blocks are useful when you want to handle different types of exceptions in different ways.\n",
    "try:\n",
    "  try:\n",
    "    x = int(input(\"Enter a number: \"))\n",
    "  except ValueError:\n",
    "    print(\"Invalid number.\")\n",
    "  else:\n",
    "    try:\n",
    "      y = 5 / x\n",
    "    except ZeroDivisionError:\n",
    "      print(\"Cant divide by zero.\")\n",
    "    else:\n",
    "      print(x, \"divided by\", y, \"is\", x / y)\n",
    "except Exception:\n",
    "  print(\"An unknown exception occurred.\")\n",
    "\n",
    "#In this code, the first try-except block handles the ValueError exception that is raised when the user enters an invalid number. \n",
    "\n",
    "#The second try-except block handles the ZeroDivisionError exception that is raised when the user enters 0 as the divisor. \n",
    "\n",
    "#The except block at the end of the code catches any other exceptions that are not handled by the inner try-except blocks.\n"
   ]
  },
  {
   "cell_type": "markdown",
   "id": "e5803187-0a64-4091-aba0-2f49982feaf1",
   "metadata": {},
   "source": [
    "3. How can you create a custom exception class in Python? Provide an example that\n",
    "demonstrates its usage."
   ]
  },
  {
   "cell_type": "code",
   "execution_count": 6,
   "id": "3f68ca4b-8bf4-48f9-9704-45bd3de6f885",
   "metadata": {},
   "outputs": [
    {
     "name": "stdout",
     "output_type": "stream",
     "text": [
      "This is a custom exception.\n"
     ]
    }
   ],
   "source": [
    "#Ans:->\n",
    "      #In python we can create a custom exception  class with oop where we can define our own class as follow\n",
    "    \n",
    "    \n",
    "class MyException(Exception):\n",
    "  \n",
    "\n",
    "  def __init__(self, message):      #here constructor is used to pass aegument , self is instance here\n",
    "    super().__init__(message)\n",
    "\n",
    "\n",
    "def my_function():        \n",
    "  \n",
    "  raise MyException(\"This is a custom exception.\")\n",
    "\n",
    "\n",
    "try:\n",
    "  my_function()\n",
    "except MyException as e:\n",
    "  print(e)    \n",
    "\n",
    "\n",
    "#we first define a custom exception class called MyException. This class inherits from the Exception class, which is the base class for all\n",
    "\n",
    "#exceptions in Python. The MyException class has a single constructor that takes a message argument. The message argument is used to store\n",
    "\n",
    "#the message that will be displayed when the exception is raised.\n",
    "\n",
    "#The my_function() function raises a MyException exception. The MyException exception is raised with the message\n",
    "\n",
    "#\"This is a custom exception.\"\n",
    "\n",
    "#The try block tries to run the my_function() function. If the my_function() function raises an exception, the except block will be executed\n",
    "\n",
    "#The except block catches the MyException exception and prints the message that was stored in the exception object.\n"
   ]
  },
  {
   "cell_type": "markdown",
   "id": "cfd41a55-c7ed-477e-ae5d-54e826fa6094",
   "metadata": {},
   "source": [
    "4. What are some common exceptions that are built-in to Python?"
   ]
  },
  {
   "cell_type": "code",
   "execution_count": null,
   "id": "39789a17-ebd3-45bc-bab1-4eceec2ce903",
   "metadata": {},
   "outputs": [],
   "source": [
    "#Ans:-> In python there is some common exception that are biilt_in as follow.\n",
    "\n",
    "ZeroDivisionError: Raised when division or modulo operation is performed with zero as the denominator.\n",
    "\n",
    "ValueError - Raised when a value is not of the correct type or format. For example, if you try to convert a string to an integer, a ValueError exception will be \n",
    "             raised if the string does not contain a valid integer.\n",
    "    \n",
    "TypeError - Raised when an operation is performed on an object of the wrong type. For example, if you try to add a string and an integer,\n",
    "            a TypeError exception will be raised.\n",
    "KeyError - Raised when a key is not found in a dictionary. For example, if you try to access a \n",
    "           key that does not exist in a dictionary,a KeyError exception will be raised.\n",
    "    \n",
    "IndexError - Raised when an index is out of range. For example, if you try to access an element of a list that does not exist, a IndexError\n",
    "             exception will be raised.\n",
    "    \n",
    "FileNotFoundError - Raised when a file cannot be found. For example, if you try to open a file that does not exist, a FileNotFoundError \n",
    "                    exception will be raised.\n",
    "    \n",
    "AttributeError: Raised when an attribute reference or assignment fails.    "
   ]
  },
  {
   "cell_type": "markdown",
   "id": "a1d55e5e-1bee-476d-be27-8ea62954b9c2",
   "metadata": {},
   "source": [
    "5. What is logging in Python, and why is it important in software development?"
   ]
  },
  {
   "cell_type": "code",
   "execution_count": null,
   "id": "739676ae-8c1c-4c60-b90b-ef630f4d7d9e",
   "metadata": {},
   "outputs": [],
   "source": [
    "#Ans:->\n",
    "        #Logging is a way to record information about your Python scripts and track events that occur. When writing any complex script in \n",
    "        #Python, logging is essential for debugging software as you develop it.\n",
    "        \n",
    "        \n",
    "# we have to import logging module for using.\n",
    "\n",
    "#Logging is important in software development for several reasons\n",
    "\n",
    "#Debugging: Logging allows developers to record information about the program's behavior, variable values, and execution \n",
    "#            flow. This information is valuable for diagnosing and fixing issues in the code.\n",
    "    \n",
    "#Track the behavior of your code: Logging can help you to track the behavior of your code over time. By logging the values of variables \n",
    "#                                 and the output of functions, you can see how your code is changing as you make changes to it.\n",
    "\n",
    "#Diagnose problems: Logging can help you to diagnose problems with your code. By logging the errors that occur, you can see what is \n",
    "#                   causing the problems and how to fix them.\n",
    "\n",
    "#Historical Analysis: Logs serve as a historical record of a program's execution. They can be used to analyze patterns, track usage trends, \n",
    "\n",
    "#                     and gain insights into the behavior of the system over time.\n",
    "\n",
    "\n",
    "#Communication and Collaboration: Logging allows different components of an application to communicate and exchange information.\n",
    "\n",
    "#                                  It provides a common language and shared understanding among developers, making it easier to \n",
    "\n",
    "#                                  collaborate, debug issues, and maintain the codebase.\n"
   ]
  },
  {
   "cell_type": "markdown",
   "id": "6ff127d2-95b8-4c90-a3c4-92b46dcda0ef",
   "metadata": {},
   "source": [
    "6. Explain the purpose of log levels in Python logging and provide examples of when\n",
    "each log level would be appropriate."
   ]
  },
  {
   "cell_type": "code",
   "execution_count": 11,
   "id": "50e1405d-20df-4953-933c-a2a541baaa4a",
   "metadata": {},
   "outputs": [
    {
     "name": "stderr",
     "output_type": "stream",
     "text": [
      "DEBUG:root:This is a debug message.\n",
      "DEBUG:root:This is a debug message.\n",
      "INFO:root:The application has started successfully.\n",
      "WARNING:root:The disk space is running low.\n",
      "ERROR:root:An error occurred while processing the data.\n",
      "CRITICAL:root:A critical error occurred. Terminating the program.\n"
     ]
    }
   ],
   "source": [
    "#Ans:->\n",
    "     #Log levels in Python logging are used to determine which messages are logged and which messages are not logged. There are six log levels\n",
    "     #in Python logging\n",
    "\n",
    "        \n",
    "#NOTSET (0): This is the default log level. No messages are logged at this level.\n",
    "\n",
    "import logging\n",
    "logging.basicConfig(level=logging.DEBUG)  #we can use code insted of name also. simply pass level=0 \n",
    "logging.debug(\"This is a debug message.\")\n",
    "\n",
    "#DEBUG (10): This level is used for debugging purposes. Messages at this level are typically very detailed and are only useful when \n",
    "#debugging your code.\n",
    "\n",
    "logging.basicConfig(level=logging.DEBUG)\n",
    "logging.debug(\"This is a debug message.\")\n",
    "\n",
    "#INFO (20): This level is used for general information. Messages at this level are typically useful for tracking the behavior of your code.\n",
    "\n",
    "logging.basicConfig(level=logging.INFO)\n",
    "logging.info(\"This is information message.\")\n",
    "\n",
    "#WARNING (30): This level is used for warnings. Messages at this level indicate that something unexpected has happened, but the program \n",
    "#is still running.\n",
    "\n",
    "logging.basicConfig(level=logging.WARNING)\n",
    "logging.warning(\"This is warning message.\")\n",
    "\n",
    "\n",
    "#ERROR (40): This level is used for errors. Messages at this level indicate that an error has occurred and the program may not be able to \n",
    "#continue running.\n",
    "\n",
    "logging.basicConfig(level=logging.ERROR)\n",
    "logging.error(\"An error occurred while processing the data.\")\n",
    "\n",
    "#CRITICAL (50): This level is used for critical errors. Messages at this level indicate that a serious error has occurred and the program \n",
    "               #may not be able to continue running.        \n",
    "    \n",
    "logging.basicConfig(level=logging.CRITICAL)\n",
    "logging.critical(\"A critical error occurred. Terminating the program.\")    "
   ]
  },
  {
   "cell_type": "markdown",
   "id": "2c0fd2b5-f5a9-43a9-9818-1990c8239274",
   "metadata": {},
   "source": [
    "7. What are log formatters in Python logging, and how can you customise the log\n",
    "message format using formatters?"
   ]
  },
  {
   "cell_type": "code",
   "execution_count": 17,
   "id": "8de69e97-1fb4-4da5-8d09-8daf7feb9800",
   "metadata": {},
   "outputs": [
    {
     "name": "stderr",
     "output_type": "stream",
     "text": [
      "INFO:my_logger:This is an informational message.\n"
     ]
    }
   ],
   "source": [
    "#Ans:->  \n",
    "#      Log formatters in Python logging are used to control the format of the log messages. The default log formatter in Python logging \n",
    "#      simply prints the message level and the message text.\n",
    "        \n",
    "      #its means we can print message in diffrent format as we like.  \n",
    "#To customize the log formatter, you can use the logging.Formatter class. The logging.Formatter class takes a format string as an argument.\n",
    "\n",
    "\n",
    "import logging\n",
    "\n",
    "logging.basicConfig(level=logging.INFO, format='%(asctime)s - %(levelname)s - %(message)s')\n",
    "logger = logging.getLogger('my_logger')\n",
    "\n",
    "logger.info('This is an informational message.')\n",
    "\n",
    "#%(asctime)s: The timestamp of the log message.\n",
    "\n",
    "#%(levelname)s: The log level of the message (e.g., INFO, WARNING).\n",
    "\n",
    "#%(message)s: The log message itself."
   ]
  },
  {
   "cell_type": "markdown",
   "id": "68792260-f08a-4550-b993-b114abfdfb14",
   "metadata": {},
   "source": [
    "8. How can you set up logging to capture log messages from multiple modules or\n",
    "classes in a Python application?"
   ]
  },
  {
   "cell_type": "code",
   "execution_count": 20,
   "id": "44ed6323-046a-468b-aa83-87153f972e32",
   "metadata": {},
   "outputs": [
    {
     "name": "stderr",
     "output_type": "stream",
     "text": [
      "DEBUG:__main__:Debug message from module_a\n",
      "INFO:__main__:Info message from module_a\n",
      "DEBUG:__main__:Debug message from module_b\n",
      "WARNING:__main__:Warning message from module_b\n"
     ]
    }
   ],
   "source": [
    "#Ans:->\n",
    " #      To set up logging to capture log messages from multiple modules or classes in a Python application, you can use the following steps:\n",
    "\n",
    "#Create a logger for each module or class that you want to log messages from.\n",
    "\n",
    "#Configure the log level for each logger.\n",
    "\n",
    "#Create a formatter for each logger.\n",
    "\n",
    "#Add the loggers to the logging system.\n",
    "\n",
    "#Start logging messages.\n",
    "\n",
    "\n",
    "\n",
    "import logging\n",
    "\n",
    "\n",
    "logger = logging.getLogger('my_application')\n",
    "logger.setLevel(logging.DEBUG)\n",
    "\n",
    "\n",
    "console_handler = logging.StreamHandler()\n",
    "console_handler.setLevel(logging.DEBUG)\n",
    "\n",
    "\n",
    "formatter = logging.Formatter('%(asctime)s - %(name)s - %(levelname)s - %(message)s')\n",
    "console_handler.setFormatter(formatter)\n",
    "\n",
    "\n",
    "logger.addHandler(console_handler)\n",
    "\n",
    "\n",
    "module_logger = logging.getLogger(__name__)\n",
    "module_logger.debug('Debug message from module_a')\n",
    "module_logger.info('Info message from module_a')\n",
    "\n",
    "\n",
    "module_logger = logging.getLogger(__name__)\n",
    "module_logger.debug('Debug message from module_b')\n",
    "module_logger.warning('Warning message from module_b')\n"
   ]
  },
  {
   "cell_type": "markdown",
   "id": "1442e690-12dc-45ae-b56f-32247cddd630",
   "metadata": {},
   "source": [
    "9. What is the difference between the logging and print statements in Python? When\n",
    "should you use logging over print statements in a real-world application?"
   ]
  },
  {
   "cell_type": "code",
   "execution_count": null,
   "id": "6aeca294-1cf1-404c-9944-bf6f6d0eae1e",
   "metadata": {},
   "outputs": [],
   "source": [
    "#Ans:->\n",
    "      The main difference between the logging and print statements in Python is that logging is designed to be used for debugging and tracking\n",
    "      the behavior of your code, while print statements are designed to be used for displaying information to the user.\n",
    "\n",
    "      Logging messages can be filtered and stored in a file or database, so that you can view them later. Print statements are simply printed to\n",
    "      the console, and are not saved anywhere.\n",
    "        \n",
    "        \n",
    "        \n",
    "Purpose: The print statement is to display information on the console or standard output. It is commonly used for\n",
    "         debugging or quickly inspecting values during development.\n",
    "    \n",
    "         The purpose of logging is to capture and record log,messages that provide insights into the program's behavior, errors, warnings, \n",
    "         and other relevant information.\n",
    "            \n",
    "            \n",
    "Storage:-> we can store logging  file or database. but we cant store print\n",
    "\n",
    "Built-in:-> print is built-in fuction of python. for using logging we have to import it\n",
    "            \n",
    "    \n",
    "Formatting:-> We can format logging but we cant format print fuction.\n",
    "\n",
    "\n",
    "Error Tracking and Monitoring: Logging is crucial for error tracking, debugging, and monitoring applications. It allows you to capture \n",
    "                               relevant information about errors, warnings, and other events, making it easier to diagnose and fix issues\n",
    "    \n",
    "Flexibility: Logging allows you to configure multiple log handlers, such as writing log messages to files, sending them to external services.\n",
    "\n"
   ]
  },
  {
   "cell_type": "markdown",
   "id": "4026936e-5453-4b05-b576-691e25d66a5d",
   "metadata": {},
   "source": [
    "10. Write a Python program that logs a message to a file named \"app.log\" with the\n",
    "following requirements:\n",
    "● The log message should be \"Hello, World!\"\n",
    "● The log level should be set to \"INFO.\"\n",
    "● The log file should append new log entries without overwriting previous ones."
   ]
  },
  {
   "cell_type": "code",
   "execution_count": 21,
   "id": "afeedbf1-7e2a-4e10-a12b-db84b7f7f635",
   "metadata": {},
   "outputs": [
    {
     "name": "stderr",
     "output_type": "stream",
     "text": [
      "INFO:my_logger:Hello, World!\n"
     ]
    }
   ],
   "source": [
    "#Ans:->here is a Python program that logs a message to a file named \"app.log\" with the following requirements\n",
    "\n",
    "import logging\n",
    "\n",
    "\n",
    "logger = logging.getLogger('my_logger')                     #logger and set the log level\n",
    "logger.setLevel(logging.INFO)\n",
    "\n",
    "\n",
    "file_handler = logging.FileHandler('app.log', mode='a')     # Create a file handler\n",
    "file_handler.setLevel(logging.INFO)\n",
    "\n",
    "\n",
    "formatter = logging.Formatter('%(asctime)s - %(levelname)s - %(message)s') # Set a log formatter for the file handler\n",
    "file_handler.setFormatter(formatter)\n",
    "\n",
    "\n",
    "logger.addHandler(file_handler)               # Add the file handler to the logger\n",
    "\n",
    " \n",
    "logger.info('Hello, World!')                 # Log the message\n",
    "\n",
    "#his code will create a file named \"app.log\" and log the message \"Hello, World!\" to the file. The log level is set to \"INFO\", so the \n",
    "\n",
    "#message will only be logged if the logging level is set to \"INFO\" or higher. The file handler is configured to append new log entries \n",
    "\n",
    "#to the file, so previous log entries will not be overwritten\n"
   ]
  },
  {
   "cell_type": "markdown",
   "id": "696d41a7-c3c5-467a-bbab-ba73767addd6",
   "metadata": {},
   "source": [
    "11. Create a Python program that logs an error message to the console and a file named\n",
    "\"errors.log\" if an exception occurs during the program's execution. The error\n",
    "message should include the exception type and a timestamp."
   ]
  },
  {
   "cell_type": "code",
   "execution_count": null,
   "id": "84360834-3751-437e-8ab7-4c7e60853663",
   "metadata": {},
   "outputs": [],
   "source": [
    "#Ans:->\n",
    "      #here is a Python program that logs an error message to the console and a file named \"errors.log\" if an exception occurs during the\n",
    "      #program's execution. The error message should include the exception type and a timestamp\n",
    "import logging\n",
    "import datetime\n",
    "\n",
    "# Create a logger and set the log level\n",
    "logger = logging.getLogger('my_logger')\n",
    "logger.setLevel(logging.ERROR)\n",
    "\n",
    "# Create a console handler\n",
    "console_handler = logging.StreamHandler()\n",
    "console_handler.setLevel(logging.ERROR)\n",
    "\n",
    "# Create a file handler\n",
    "file_handler = logging.FileHandler('errors.log', mode='a')\n",
    "file_handler.setLevel(logging.ERROR)\n",
    "\n",
    "# Set log formatters for both handlers\n",
    "formatter = logging.Formatter('%(asctime)s - %(levelname)s - %(message)s')\n",
    "console_handler.setFormatter(formatter)\n",
    "file_handler.setFormatter(formatter)\n",
    "\n",
    "# Add handlers to the logger\n",
    "logger.addHandler(console_handler)\n",
    "logger.addHandler(file_handler)\n",
    "\n",
    "try:\n",
    "    # Code that may raise an exception\n",
    "    raise ValueError(\"This is a sample exception.\")\n",
    "except Exception as e:\n",
    "    # Log the error message\n",
    "    error_message = f\"Exception: {type(e).__name__} occurred at {datetime.datetime.now()}\"\n",
    "    logger.error(error_message)\n",
    "    \n",
    "#In this program, we create a logger named 'my_logger' and set its log level to ERROR. We create both a console handler and a file handler,\n",
    "\n",
    "#and set their log levels to ERROR as well. Log formatters are defined to include the timestamp, log level, and the error message.\n"
   ]
  }
 ],
 "metadata": {
  "kernelspec": {
   "display_name": "Python 3 (ipykernel)",
   "language": "python",
   "name": "python3"
  },
  "language_info": {
   "codemirror_mode": {
    "name": "ipython",
    "version": 3
   },
   "file_extension": ".py",
   "mimetype": "text/x-python",
   "name": "python",
   "nbconvert_exporter": "python",
   "pygments_lexer": "ipython3",
   "version": "3.10.6"
  }
 },
 "nbformat": 4,
 "nbformat_minor": 5
}
