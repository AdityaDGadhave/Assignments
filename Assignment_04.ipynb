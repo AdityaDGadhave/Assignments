{
 "cells": [
  {
   "cell_type": "markdown",
   "id": "e38843c3-ded8-47b3-9d3c-675ad6c14e12",
   "metadata": {},
   "source": [
    "1. What exactly is []?"
   ]
  },
  {
   "cell_type": "code",
   "execution_count": 1,
   "id": "e8833b67-1684-431b-a6e8-565803eaf721",
   "metadata": {},
   "outputs": [
    {
     "name": "stdout",
     "output_type": "stream",
     "text": [
      "[]\n"
     ]
    }
   ],
   "source": [
    "#Ans:-> In the python this brackte denote empty list..\n",
    "#list is one of the most important data type of python.\n",
    "\n",
    "#in python square bracets used for the list .\n",
    "\n",
    "list_=[]                  #<--- in python we use this syntax for empty list\n",
    "print(list_)\n",
    "\n",
    "#list can contain any datatyape in it. Ex:- integers, strings, tuple etc"
   ]
  },
  {
   "cell_type": "markdown",
   "id": "8bc0055d-d9bd-4aaf-a5ce-9bebf3ba5909",
   "metadata": {},
   "source": [
    "2. In a list of values stored in a variable called spam, how would you assign the value &#39;hello&#39; as the\n",
    "third value? (Assume [2, 4, 6, 8, 10] are in spam.)"
   ]
  },
  {
   "cell_type": "code",
   "execution_count": 3,
   "id": "f393d82e-23c5-4147-86a0-e799372bd405",
   "metadata": {},
   "outputs": [
    {
     "name": "stdout",
     "output_type": "stream",
     "text": [
      "[2, 4, 'hello', 8, 10]\n"
     ]
    }
   ],
   "source": [
    "#Ans:-> for assign the value 'hello' as third we can use indexing and item assigment operation.\n",
    "#in python positive indexing is start with 0. to assign value as third we can use below code.\n",
    "\n",
    "spam=[2, 4, 6, 8, 10] \n",
    "spam[2]='hello'          #<--- here we are doing assigment because list is mutable datatype\n",
    "print(spam)              "
   ]
  },
  {
   "cell_type": "markdown",
   "id": "919ab562-dce1-4162-acb3-e47911bac49e",
   "metadata": {},
   "source": [
    "Let&#39;s pretend the spam includes the list ['a','b','c','d']for the next three queries.\n",
    "3. What is the value of spam[int(int('3' * 2) / 11)]?\n"
   ]
  },
  {
   "cell_type": "code",
   "execution_count": 5,
   "id": "91f77b46-f95c-4b64-8b2c-5f767e91de21",
   "metadata": {},
   "outputs": [
    {
     "name": "stdout",
     "output_type": "stream",
     "text": [
      "d\n"
     ]
    }
   ],
   "source": [
    "#Ans:-> After calculating above expression spam[int(int('3'*2)/11 we get spam[3]\n",
    "#      at spam[3] in this index in spam list ['d'] is present that why output is             \n",
    "#      ['d'] \n",
    "spam=['a','b','c','d']\n",
    "a=spam[int(int('3' * 2) / 11)]\n",
    "print(a)\n",
    "                                                   \n",
    "                                                   "
   ]
  },
  {
   "cell_type": "markdown",
   "id": "8e26347b-c73d-4a2d-8fd7-534700b07c69",
   "metadata": {},
   "source": [
    "4. What is the value of spam[-1]?"
   ]
  },
  {
   "cell_type": "code",
   "execution_count": 7,
   "id": "2f2a154c-b3e5-4b6a-ab52-3487bdd57958",
   "metadata": {},
   "outputs": [
    {
     "name": "stdout",
     "output_type": "stream",
     "text": [
      "d\n"
     ]
    }
   ],
   "source": [
    "#Ans:-> In python negative indexing start with -1\n",
    "#       thats why the output is ['d']\n",
    "    \n",
    "spam=['a','b','c','d']    \n",
    "print(spam[-1])\n",
    "     "
   ]
  },
  {
   "cell_type": "markdown",
   "id": "81d02094-860b-4862-b818-7d69c4ad0434",
   "metadata": {},
   "source": [
    "5. What is the value of spam[:2]?"
   ]
  },
  {
   "cell_type": "code",
   "execution_count": 10,
   "id": "54828847-b638-45b2-a2ec-5c23b741737e",
   "metadata": {},
   "outputs": [
    {
     "name": "stdout",
     "output_type": "stream",
     "text": [
      "['a', 'b']\n"
     ]
    }
   ],
   "source": [
    "#Ans:-> here slicing operation is happned. spam[:2] we can write like spam[0:2]  this also.\n",
    "#       in slicing first index in  including and last in excluding that why output is\n",
    "      # ['a','b']\n",
    "spam=['a','b','c','d']    \n",
    "print(spam[:2])\n",
    "\n",
    "        "
   ]
  },
  {
   "cell_type": "markdown",
   "id": "7ebd5736-b8f3-48a7-988f-1d2c7f73a668",
   "metadata": {},
   "source": [
    "Lets pretend bacon has the list [3.14, 'cat', 11, 'cat', True] for the next three questions.\n",
    "6. What is the value of bacon.index('cat')?"
   ]
  },
  {
   "cell_type": "code",
   "execution_count": 12,
   "id": "c9bc0ccd-2d4e-4c0f-892e-04d2b87d1563",
   "metadata": {},
   "outputs": [
    {
     "name": "stdout",
     "output_type": "stream",
     "text": [
      "1\n"
     ]
    }
   ],
   "source": [
    "#Ans:->in python .index method is used for find out the index of given value.\n",
    "#      in index method , The index() method of a list returns the index of the first occurrence of a given value in the list.\n",
    " #   that why output will be '1'\n",
    "bacon=[3.14, 'cat', 11, 'cat', True] \n",
    "print(bacon.index('cat'))\n",
    "    \n",
    "    "
   ]
  },
  {
   "cell_type": "markdown",
   "id": "10493538-7fa9-4071-994c-c789ab427b33",
   "metadata": {},
   "source": [
    "7. How does bacon.append(99) change the look of the list value in bacon?"
   ]
  },
  {
   "cell_type": "code",
   "execution_count": 13,
   "id": "a80cc0e7-87a8-4cd7-90e5-a555e3e86271",
   "metadata": {},
   "outputs": [
    {
     "name": "stdout",
     "output_type": "stream",
     "text": [
      "[3.14, 'cat', 11, 'cat', True, 99]\n"
     ]
    }
   ],
   "source": [
    "#Ans:-> append is the important method of the list with the help of append values can be add in list.\n",
    "      # append alwasys add the value at the end of the list and given list look like below\n",
    "bacon=[3.14, 'cat', 11, 'cat', True] \n",
    "bacon.append(99)\n",
    "print(bacon)"
   ]
  },
  {
   "cell_type": "markdown",
   "id": "c2ed715a-99ce-455c-a1af-dac663f093d3",
   "metadata": {},
   "source": [
    "8. How does bacon.remove(&#39;cat&#39;) change the look of the list in bacon?"
   ]
  },
  {
   "cell_type": "code",
   "execution_count": 14,
   "id": "4ea33635-7ad8-4e5e-9795-40d1115489ab",
   "metadata": {},
   "outputs": [
    {
     "name": "stdout",
     "output_type": "stream",
     "text": [
      "[3.14, 11, 'cat', True]\n"
     ]
    }
   ],
   "source": [
    "#And:-> The remove() method of a list removes the first occurrence of a given value in the list. In this case, the remove() method will\n",
    "#       remove the first occurrence of the value 'cat' from the list bacon. Therefore, the list bacon will look like this after the \n",
    " #      remove() method is called\n",
    "bacon = [3.14, 'cat', 11, 'cat', True]    \n",
    "bacon.remove('cat')\n",
    "print(bacon)\n",
    "\n",
    "'cat' from index 1 is removed"
   ]
  },
  {
   "cell_type": "markdown",
   "id": "eca4287b-df86-44cc-aa64-4105b1b991a1",
   "metadata": {},
   "source": [
    "9. What are the list concatenation and list replication operators?"
   ]
  },
  {
   "cell_type": "code",
   "execution_count": 3,
   "id": "6783f7ba-22f8-45ea-ac3e-eace93055109",
   "metadata": {},
   "outputs": [
    {
     "name": "stdout",
     "output_type": "stream",
     "text": [
      "['hello', 'Ineuron']\n",
      "['hello', 'hello']\n"
     ]
    }
   ],
   "source": [
    "#Ans:->In concatenation operation '+' is used to add two list.\n",
    "\n",
    "list_1=['hello']\n",
    "list_2=['Ineuron']\n",
    "concanicate=list_1+list_2         #<----- here concatenation operation is happening\n",
    "print(concanicate)\n",
    "\n",
    "      \n",
    "    #In replication operation '*' is used to repeat the list.\n",
    "        \n",
    "list_3=['hello']*2         #<--- here replication operation is happening \n",
    "\n",
    "print(list_3)        "
   ]
  },
  {
   "cell_type": "markdown",
   "id": "b60626c4-70d0-46dc-8dfd-2232d62d2636",
   "metadata": {},
   "source": [
    "10. What is difference between the list methods append() and insert()?"
   ]
  },
  {
   "cell_type": "code",
   "execution_count": 7,
   "id": "751c5d70-1434-4768-8577-ae1dff68dc2e",
   "metadata": {},
   "outputs": [
    {
     "name": "stdout",
     "output_type": "stream",
     "text": [
      "[1, 5, 2, 4, 45]\n",
      "[4, 1, 2, 3]\n"
     ]
    }
   ],
   "source": [
    "#Ans:-> In python append and insert both used to add the item (for item assigment)\n",
    "#       but there is diffrence between them .\n",
    "    \n",
    "#       append is always add given item at the end of the list .\n",
    "#EX:->\n",
    "\n",
    "list_1=[1,5,2,4]\n",
    "list_1.append(45)    \n",
    "print(list_1)\n",
    "\n",
    "\n",
    "#Insert is used to add the value at the specific index means posiion. insert take two argument first is index number, second is value \n",
    "#EX:->\n",
    "\n",
    "list_2 = [1, 2, 3]\n",
    "list_2.insert(0, 4)\n",
    "print(list_2)"
   ]
  },
  {
   "cell_type": "markdown",
   "id": "0ed4f4f1-eca7-4e11-87aa-1dc2805ca55a",
   "metadata": {},
   "source": [
    "11. What are the two methods for removing items from a list?"
   ]
  },
  {
   "cell_type": "code",
   "execution_count": 12,
   "id": "f94ea2dd-f44d-4873-bdf1-cf655d434fd6",
   "metadata": {},
   "outputs": [
    {
     "name": "stdout",
     "output_type": "stream",
     "text": [
      "[1, 5, 4]\n",
      "['apple', 'banana']\n"
     ]
    }
   ],
   "source": [
    "#Ans:-> For removing items from list we have some methods like remove,pop,del\n",
    "\n",
    "# i) remove :- remove is used to remove item from list. remove take 1 argument.\n",
    "               #that argument is removing value.if item duplication is in list ,then remove also remove first occurance.\n",
    "#Ex:->\n",
    "\n",
    "list_1=[1,5,2,4]          # i want to remove 2\n",
    "list_1.remove(2)          # argument 2 pass\n",
    "print(list_1)\n",
    "\n",
    "#ii) pop:->The pop() method is used to remove an item from a list based on its index. It takes an optional argument, which is the index of \n",
    "#the item to be removed. If no index is specified, it removes and returns the last item in the list. The pop() method modifies the original \n",
    "#list and returns the removed item.\n",
    "\n",
    "list_2=['apple','banana','kiwi']\n",
    "list_2.pop(2)                    #here 2 in index number for remove the 'kiwi'\n",
    "print(list_2)"
   ]
  },
  {
   "cell_type": "markdown",
   "id": "2de21339-7b3b-4014-9de2-049a1bc0ad87",
   "metadata": {},
   "source": [
    "12. Describe how list values and string values are identical."
   ]
  },
  {
   "cell_type": "code",
   "execution_count": null,
   "id": "d25f0f5c-e5f7-44a4-b8c7-90d46b17beb3",
   "metadata": {},
   "outputs": [],
   "source": [
    "#Ans:-> List values and string values are identical in the following ways:\n",
    "\n",
    "#They are both sequences. This means that they can be indexed, sliced, and iterated over(we can apply for loop on both).\n",
    "#They both have a length. This is the number of elements in the sequence.\n",
    "#They both can be compared for equality.\n",
    "#list and strings both are odered.\n",
    "#here are also some key differences between list values and string values:\n",
    "\n",
    "#List values can contain elements of different types, while string values can only contain characters.\n",
    "#List values are mutable, while string values are immutable. This means that list values can be changed, while string values cannot be \n",
    "#changed.\n"
   ]
  },
  {
   "cell_type": "markdown",
   "id": "1800dc22-7d37-4d86-b24c-ffca9f1f0427",
   "metadata": {},
   "source": [
    "13. What&#39;s the difference between tuples and lists?"
   ]
  },
  {
   "cell_type": "code",
   "execution_count": null,
   "id": "d280cc7e-7425-4d82-851d-0062ffa0c40a",
   "metadata": {},
   "outputs": [],
   "source": [
    "#Ans->The basic diffrence between list and tuple are\n",
    "\n",
    "#Mutability:-> tuples are unmutable but lists are mutable. means we can change remove or add value in list but in tuple we cant\n",
    "#             (item assigment)\n",
    "    \n",
    "#Performancr:-> tuple are faster than list. because they are immutable.\n",
    "\n",
    "#Memory:-> tuple are memory efficient than list. means tuple need less memory to store values compair to list.\n",
    "\n",
    "#syntax:-> for tuple normal brackets are used '()'. for list we use square brackets '[]'."
   ]
  },
  {
   "cell_type": "markdown",
   "id": "c5cabcd2-df3c-4f74-8eda-63b5e9c0a9b2",
   "metadata": {},
   "source": [
    "14. How do you type a tuple value that only contains the integer 42?"
   ]
  },
  {
   "cell_type": "code",
   "execution_count": 16,
   "id": "da1ea980-e849-47a9-bf2d-5852bee591de",
   "metadata": {},
   "outputs": [
    {
     "name": "stdout",
     "output_type": "stream",
     "text": [
      "<class 'tuple'>\n"
     ]
    }
   ],
   "source": [
    "#Ans:->For tuple we use normal brackets with qumma separate value \n",
    "\n",
    "#we can define single value tuple with adding qumma at the end .\n",
    "\n",
    "#EX:->\n",
    "\n",
    "tuple_=(42,)           #we can define single value tuple like this.\n",
    "print(type(tuple_))        "
   ]
  },
  {
   "cell_type": "markdown",
   "id": "e1b022dd-f4d9-46ac-a1dd-8988d36aa5f3",
   "metadata": {},
   "source": [
    "15. How do you get a list value&#39;s tuple form? How do you get a tuple value&#39;s list form?"
   ]
  },
  {
   "cell_type": "code",
   "execution_count": 20,
   "id": "fef97af5-b1a5-4cfc-b422-cfe541909876",
   "metadata": {},
   "outputs": [
    {
     "name": "stdout",
     "output_type": "stream",
     "text": [
      "(1, 2, 3)\n",
      "<class 'tuple'>\n",
      "[1, 2, 3]\n",
      "<class 'list'>\n"
     ]
    }
   ],
   "source": [
    "#Ans:-> In python for get list values in tuple for we can use tuple() function. with that we can\n",
    "#       covert list into tuple\n",
    "    \n",
    "#Ex:->\n",
    "\n",
    "list_=[1,2,3]\n",
    "tuple_=tuple(list_)          #tuple() fuction is used here\n",
    "print(tuple_)\n",
    "print(type(tuple_))\n",
    "\n",
    "\n",
    "\n",
    "#In python for get tuple values in list for we can use list() function. with that we can\n",
    "#       covert tuple into list\n",
    "\n",
    "#Ex:->\n",
    "\n",
    "tuple_1=(1,2,3)\n",
    "list_1=list(tuple_1)            #list() fuction is used \n",
    "print(list_1)\n",
    "print(type(list_1))\n"
   ]
  },
  {
   "cell_type": "markdown",
   "id": "6d4f31ed-fbd8-4c65-82d4-886f8a0f7509",
   "metadata": {},
   "source": [
    "16. Variables that &quot;contain&quot; list values are not necessarily lists themselves. Instead, what do they\n",
    "contain?"
   ]
  },
  {
   "cell_type": "code",
   "execution_count": 22,
   "id": "921567af-6fe3-43b1-8e12-9420c819edf4",
   "metadata": {},
   "outputs": [
    {
     "name": "stdout",
     "output_type": "stream",
     "text": [
      "[1, 2, 3]\n",
      "[1, 2, 3, 42]\n",
      "[1, 2, 3, 42]\n"
     ]
    }
   ],
   "source": [
    "#Ans:->Variables that \"contain\" list values are not necessarily lists themselves. Instead, they contain references to lists. \n",
    "#A reference is like a pointer or an arrow to somewhere else in the computer's memory. The list is actually stored somewhere else.\n",
    "\n",
    "#For example, the following code creates two variables, list1 and list2, and assigns them the same list\n",
    "list1 = [1, 2, 3]\n",
    "list2 = list1            #here list2 is pointing toward the list1 which stored at specific location in memory\n",
    "\n",
    "print(list2)             #if we modifid list2 then that change also happen in list1 because some memory loction.\n",
    "\n",
    "\n",
    "#The variables list1 and list2 do not contain the list itself. They contain references to the list. This means that if we modify the list\n",
    "#through either variable, the other variable will also be modified.\n",
    "list1.append(42)\n",
    "print(list1)\n",
    "print(list2)"
   ]
  },
  {
   "cell_type": "markdown",
   "id": "4dce9d4d-2ec1-4d3f-92de-24803fe0eb85",
   "metadata": {},
   "source": [
    "17. How do you distinguish between copy.copy() and copy.deepcopy()?"
   ]
  },
  {
   "cell_type": "code",
   "execution_count": 28,
   "id": "79000321-3982-4de8-abe9-bfea85245614",
   "metadata": {},
   "outputs": [
    {
     "name": "stdout",
     "output_type": "stream",
     "text": [
      "[1, 2, 3]\n",
      "[1, 2, 3, 4]\n",
      "[1, 2, 3]\n",
      "[1, 2, 3, 5]\n"
     ]
    }
   ],
   "source": [
    "#Ans:->The copy.copy() and copy.deepcopy() functions are both used to copy objects in Python. However, they do so in different ways.\n",
    "\n",
    "#copy.copy() creates a shallow copy of an object. This means that the copy is a reference to the original object. Any changes made to the \n",
    "#copy will also be made to the original object.\n",
    "\n",
    "import copy\n",
    "list1 = [1, 2, 3]\n",
    "list2 = copy.copy(list1)\n",
    "list2.append(4)\n",
    "print(list1)\n",
    "print(list2)\n",
    "\n",
    "\n",
    "#copy.deepcopy() creates a deep copy of an object. This means that the copy is a new object that contains all of the same data as the \n",
    "#original object. Any changes made to the copy will not affect the original object.\n",
    "#EX:->\n",
    "list3 = copy.deepcopy(list1)\n",
    "\n",
    "\n",
    "list3.append(5)\n",
    "print(list1)\n",
    "\n",
    "print(list3)\n"
   ]
  },
  {
   "cell_type": "code",
   "execution_count": null,
   "id": "34397bb2-c4bf-4a0b-9058-8099c6a9b602",
   "metadata": {},
   "outputs": [],
   "source": []
  }
 ],
 "metadata": {
  "kernelspec": {
   "display_name": "Python 3 (ipykernel)",
   "language": "python",
   "name": "python3"
  },
  "language_info": {
   "codemirror_mode": {
    "name": "ipython",
    "version": 3
   },
   "file_extension": ".py",
   "mimetype": "text/x-python",
   "name": "python",
   "nbconvert_exporter": "python",
   "pygments_lexer": "ipython3",
   "version": "3.10.6"
  }
 },
 "nbformat": 4,
 "nbformat_minor": 5
}
